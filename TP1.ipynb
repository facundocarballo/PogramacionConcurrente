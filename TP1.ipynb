{
  "nbformat": 4,
  "nbformat_minor": 0,
  "metadata": {
    "colab": {
      "provenance": [],
      "include_colab_link": true
    },
    "kernelspec": {
      "name": "python3",
      "display_name": "Python 3"
    },
    "language_info": {
      "name": "python"
    }
  },
  "cells": [
    {
      "cell_type": "markdown",
      "metadata": {
        "id": "view-in-github",
        "colab_type": "text"
      },
      "source": [
        "<a href=\"https://colab.research.google.com/github/facundocarballo/PogramacionConcurrente/blob/main/TP1.ipynb\" target=\"_parent\"><img src=\"https://colab.research.google.com/assets/colab-badge.svg\" alt=\"Open In Colab\"/></a>"
      ]
    },
    {
      "cell_type": "markdown",
      "source": [
        "# C++\n",
        "\n"
      ],
      "metadata": {
        "id": "M2tEiuhSDSyp"
      }
    },
    {
      "cell_type": "markdown",
      "source": [
        "Se utiliza el patron de diseño Composite para representar el arbol de procesos."
      ],
      "metadata": {
        "id": "c2Gf7bSyDa3j"
      }
    },
    {
      "cell_type": "markdown",
      "source": [],
      "metadata": {
        "id": "NdVu-CjTns2_"
      }
    },
    {
      "cell_type": "code",
      "source": [
        "%%writefile process.cpp\n",
        "#include <sys/wait.h>\n",
        "#include <unistd.h>\n",
        "#include <iostream>\n",
        "#include <list>\n",
        "\n",
        "#define TIME_SLEEP 30\n",
        "#define PROCESS_A \"A\"\n",
        "#define PROCESS_B \"B\"\n",
        "#define PROCESS_C \"C\"\n",
        "#define PROCESS_D \"D\"\n",
        "#define PROCESS_E \"E\"\n",
        "#define PROCESS_F \"F\"\n",
        "#define PROCESS_G \"G\"\n",
        "\n",
        "class ProcessBase \n",
        "{\n",
        " public:\n",
        "  ProcessBase(){};\n",
        "  virtual void Execute() = 0;\n",
        "  void PrintMessage(std::string name) \n",
        "  {\n",
        "    std::cout << \"Proceso \" + name + \" ( PID: \" + std::to_string(getpid()) +\n",
        "                     \" | PPID: \" + std::to_string(getppid()) + \" )\"\n",
        "              << std::endl;\n",
        "  }\n",
        "  void PrintErrorMessage(std::string name)\n",
        "  {\n",
        "    std:: cout << \"Error al crear el proceso \" + name + \".\" << std::endl;\n",
        "  }\n",
        "};\n",
        "\n",
        "class ProcessLead : public ProcessBase \n",
        "{\n",
        " private:\n",
        "  std::string name_;\n",
        "\n",
        " public:\n",
        "  ProcessLead(std::string name) { this->name_ = name; }\n",
        "  void Execute() override \n",
        "  {\n",
        "    this->PrintMessage(this->name_);\n",
        "    sleep(TIME_SLEEP);\n",
        "    exit(EXIT_SUCCESS);\n",
        "  }\n",
        "};\n",
        "\n",
        "class ProcessParent : public ProcessBase \n",
        "{\n",
        " private:\n",
        "  std::string name_;\n",
        "  std::list<ProcessBase*> childs_;\n",
        "\n",
        " public:\n",
        "  ProcessParent(std::string name, std::list<ProcessBase*> childs) \n",
        "  {\n",
        "    this->name_ = name;\n",
        "    this->childs_ = childs;\n",
        "  }\n",
        "\n",
        "  void Execute() \n",
        "  {\n",
        "    this->PrintMessage(this->name_);\n",
        "    int pid;\n",
        "    for (ProcessBase* child : this->childs_) \n",
        "    {\n",
        "      pid = fork();\n",
        "      if (pid == 0) \n",
        "      {\n",
        "        child->Execute();\n",
        "      }\n",
        "      if (pid < 0)\n",
        "      {\n",
        "        child->PrintErrorMessage(this->name_);\n",
        "      } \n",
        "    }\n",
        "    sleep(TIME_SLEEP);\n",
        "    for (ProcessBase* child : this->childs_) \n",
        "    {\n",
        "      wait(NULL);\n",
        "    }\n",
        "    exit(EXIT_SUCCESS);\n",
        "  }\n",
        "};\n",
        "\n",
        "int main() \n",
        "{\n",
        "  ProcessBase* pid_g = new ProcessLead(PROCESS_G);\n",
        "  ProcessBase* pid_f = new ProcessLead(PROCESS_F);\n",
        "  ProcessBase* pid_e = new ProcessLead(PROCESS_E);\n",
        "  ProcessBase* pid_c = new ProcessLead(PROCESS_C);\n",
        "\n",
        "  std::list<ProcessBase*> childs_b = {pid_e, pid_f};\n",
        "  ProcessBase* pid_b = new ProcessParent(PROCESS_B, childs_b);\n",
        "\n",
        "  std::list<ProcessBase*> childs_d = {pid_g};\n",
        "  ProcessBase* pid_d = new ProcessParent(PROCESS_D, childs_d);\n",
        "\n",
        "  std::list<ProcessBase*> childs_a = {pid_b, pid_c, pid_d};\n",
        "  ProcessBase* pid_a = new ProcessParent(PROCESS_A, childs_a);\n",
        "\n",
        "  pid_a->Execute();\n",
        "\n",
        "  return EXIT_SUCCESS;\n",
        "}"
      ],
      "metadata": {
        "colab": {
          "base_uri": "https://localhost:8080/"
        },
        "id": "I0auENGZDzgJ",
        "outputId": "72e3f546-66a3-43f8-f75e-72460ef81f9f"
      },
      "execution_count": null,
      "outputs": [
        {
          "output_type": "stream",
          "name": "stdout",
          "text": [
            "Writing process.cpp\n"
          ]
        }
      ]
    },
    {
      "cell_type": "markdown",
      "source": [
        "Verificamos que existe el archivo Fork.cpp"
      ],
      "metadata": {
        "id": "g8clJkkKnM7c"
      }
    },
    {
      "cell_type": "code",
      "execution_count": null,
      "metadata": {
        "id": "yME6XO2F7N5m",
        "colab": {
          "base_uri": "https://localhost:8080/"
        },
        "outputId": "d8ad14c1-0229-4f34-d5fa-f74ff4c58589"
      },
      "outputs": [
        {
          "output_type": "stream",
          "name": "stdout",
          "text": [
            "total 8\n",
            "-rw-r--r-- 1 root root 2237 Apr 16 23:34 process.cpp\n",
            "drwxr-xr-x 1 root root 4096 Apr 13 13:30 sample_data\n"
          ]
        }
      ],
      "source": [
        "!ls -l"
      ]
    },
    {
      "cell_type": "markdown",
      "source": [
        "Compilamos el archivo Fork.cpp y generamos el binario."
      ],
      "metadata": {
        "id": "bAT7SpH3nSBX"
      }
    },
    {
      "cell_type": "code",
      "source": [
        "%%shell\n",
        "g++ process.cpp -o process.bin"
      ],
      "metadata": {
        "colab": {
          "base_uri": "https://localhost:8080/"
        },
        "id": "Rj8iHoMsN4Sj",
        "outputId": "2d63f00a-2c54-4181-b8ca-6f67d6a9846a"
      },
      "execution_count": null,
      "outputs": [
        {
          "output_type": "execute_result",
          "data": {
            "text/plain": []
          },
          "metadata": {},
          "execution_count": 4
        }
      ]
    },
    {
      "cell_type": "markdown",
      "source": [
        "Ponemos en ejecucion el programa obtenido, y mostramos la salida del mismo en el archivo \"salidaC\""
      ],
      "metadata": {
        "id": "Vz6ORhnWnXne"
      }
    },
    {
      "cell_type": "code",
      "source": [
        "%%shell\n",
        "nohup ./process.bin 1> salidaC 2> /dev/null & "
      ],
      "metadata": {
        "colab": {
          "base_uri": "https://localhost:8080/"
        },
        "id": "p1mizLI_G0jJ",
        "outputId": "4a9feb64-aa0a-49d1-bded-1182e992f7c1"
      },
      "execution_count": null,
      "outputs": [
        {
          "output_type": "execute_result",
          "data": {
            "text/plain": []
          },
          "metadata": {},
          "execution_count": 5
        }
      ]
    },
    {
      "cell_type": "markdown",
      "source": [
        "Visualizamos los procesos generados por este programa"
      ],
      "metadata": {
        "id": "141xTQ4dne0n"
      }
    },
    {
      "cell_type": "code",
      "source": [
        "%%shell\n",
        "ps -ef | grep process.bin"
      ],
      "metadata": {
        "colab": {
          "base_uri": "https://localhost:8080/"
        },
        "id": "3LZUdFJ3NcP-",
        "outputId": "6577e411-5e67-4af9-f83b-ec004fbcc7c0"
      },
      "execution_count": null,
      "outputs": [
        {
          "output_type": "stream",
          "name": "stdout",
          "text": [
            "root         355       1  0 23:34 ?        00:00:00 ./process.bin\n",
            "root         356     355  0 23:34 ?        00:00:00 ./process.bin\n",
            "root         357     355  0 23:34 ?        00:00:00 ./process.bin\n",
            "root         358     356  0 23:34 ?        00:00:00 ./process.bin\n",
            "root         359     355  0 23:34 ?        00:00:00 ./process.bin\n",
            "root         360     356  0 23:34 ?        00:00:00 ./process.bin\n",
            "root         361     359  0 23:34 ?        00:00:00 ./process.bin\n",
            "root         370     149  0 23:34 ?        00:00:00 /bin/bash -c ps -ef | grep process.bin \n",
            "root         372     370  0 23:34 ?        00:00:00 grep process.bin\n"
          ]
        },
        {
          "output_type": "execute_result",
          "data": {
            "text/plain": []
          },
          "metadata": {},
          "execution_count": 6
        }
      ]
    },
    {
      "cell_type": "markdown",
      "source": [
        "Ahora visualizamos el arbol de procesos, ejecutando el siguiente comando:\n",
        "***pstree -pc PID***\n",
        "\n",
        "**PID**: PID del proceso A (Lo pueden encontrar dentro del archivo \"salidaC\")"
      ],
      "metadata": {
        "id": "f4JBJBjemcQM"
      }
    },
    {
      "cell_type": "code",
      "source": [
        "%%shell\n",
        "pstree -pc 355"
      ],
      "metadata": {
        "colab": {
          "base_uri": "https://localhost:8080/"
        },
        "id": "J6R9aeKuNlfA",
        "outputId": "f318f15c-86e2-40de-f0eb-d7d0f4a75a5c"
      },
      "execution_count": null,
      "outputs": [
        {
          "output_type": "stream",
          "name": "stdout",
          "text": [
            "process.bin(355)─┬─process.bin(356)─┬─process.bin(358)\n",
            "                 │                  └─process.bin(360)\n",
            "                 ├─process.bin(357)\n",
            "                 └─process.bin(359)───process.bin(361)\n"
          ]
        },
        {
          "output_type": "execute_result",
          "data": {
            "text/plain": []
          },
          "metadata": {},
          "execution_count": 7
        }
      ]
    },
    {
      "cell_type": "markdown",
      "source": [
        "Visualizamos la salida de este programa"
      ],
      "metadata": {
        "id": "GdsKXResn-ln"
      }
    },
    {
      "cell_type": "code",
      "source": [
        "!cat salidaC"
      ],
      "metadata": {
        "colab": {
          "base_uri": "https://localhost:8080/"
        },
        "id": "mhQu53VCoBxn",
        "outputId": "1ab0cad7-c1ac-40ed-9c25-9192c71ab155"
      },
      "execution_count": null,
      "outputs": [
        {
          "output_type": "stream",
          "name": "stdout",
          "text": [
            "Proceso A ( PID: 355 | PPID: 1 )\n",
            "Proceso B ( PID: 356 | PPID: 355 )\n",
            "Proceso D ( PID: 359 | PPID: 355 )\n",
            "Proceso G ( PID: 361 | PPID: 359 )\n",
            "Proceso E ( PID: 358 | PPID: 356 )\n",
            "Proceso F ( PID: 360 | PPID: 356 )\n",
            "Proceso C ( PID: 357 | PPID: 355 )\n"
          ]
        }
      ]
    },
    {
      "cell_type": "markdown",
      "source": [
        "\n",
        "# Java\n",
        "\n",
        "\n"
      ],
      "metadata": {
        "id": "R-aEwePQoNHq"
      }
    },
    {
      "cell_type": "markdown",
      "source": [
        "El programa recibe 2 argumentos, la cantidad de hijos que debe generar el proceso al ejecutarse, y el nivel de jerarquia que este tiene. Para cumplimentar el ejercicio tiene un corte cuando alcanzan el nivel 2."
      ],
      "metadata": {
        "id": "FuZgZjIkoYpm"
      }
    },
    {
      "cell_type": "code",
      "source": [
        "%%writefile ProcessTree.java\n",
        "package processtree;\n",
        "\n",
        "import java.io.IOException;\n",
        "\n",
        "public class ProcessTree \n",
        "{\n",
        "  public static void main(String[] args) throws IOException, InterruptedException \n",
        "  {\n",
        "    ProcessHandle process = ProcessHandle.current();\n",
        "    long pid = process.pid();\n",
        "    long ppid = process.parent().get().pid();\n",
        "    System.out.println(\"Soy el proceso: \" + pid + \", Mi papa es: \" + ppid);\n",
        "\n",
        "    int level = Integer.parseInt(args[1]);\n",
        "    if (level == 2) \n",
        "    {\n",
        "      Thread.sleep(10000);\n",
        "      return;\n",
        "    }\n",
        "\n",
        "    int childrenNum = Integer.parseInt(args[0]);\n",
        "\n",
        "    Process childs[] = new Process[childrenNum];\n",
        "\n",
        "    for (int i = 1; i <= childrenNum; i++) \n",
        "    {\n",
        "      ProcessBuilder pb =\n",
        "          new ProcessBuilder(\n",
        "              \"java\", \"ProcessTree.java\", String.valueOf(childrenNum - i), String.valueOf(level + 1));\n",
        "      pb.inheritIO();\n",
        "      childs[i - 1] = pb.start();\n",
        "    }\n",
        "    Thread.sleep(10000);\n",
        "    for (int i = 0; i < childs.length; i++) \n",
        "    {\n",
        "      childs[i].waitFor();\n",
        "    }\n",
        "  }\n",
        "}\n",
        "\n"
      ],
      "metadata": {
        "colab": {
          "base_uri": "https://localhost:8080/"
        },
        "id": "FFB9QmA1oiSP",
        "outputId": "141ffe87-a1cf-4dbf-e2bc-2501a41336cd"
      },
      "execution_count": 6,
      "outputs": [
        {
          "output_type": "stream",
          "name": "stdout",
          "text": [
            "Writing ProcessTree.java\n"
          ]
        }
      ]
    },
    {
      "cell_type": "markdown",
      "source": [
        "Ponemos en ejecucion el programa obtenido, y mostramos la salida del mismo en el archivo \"salidaJava\""
      ],
      "metadata": {
        "id": "ryYexSdgoroC"
      }
    },
    {
      "cell_type": "code",
      "source": [
        "!nohup java ProcessTree.java 3 0 1>salidaJava 2>/dev/null &"
      ],
      "metadata": {
        "id": "6FUD3l8MowY-"
      },
      "execution_count": 7,
      "outputs": []
    },
    {
      "cell_type": "markdown",
      "source": [
        "Visualizamos los procesos que produce este programa."
      ],
      "metadata": {
        "id": "jauj0KP6nSTm"
      }
    },
    {
      "cell_type": "code",
      "source": [
        "!ps -ef | grep ProcessTree.java"
      ],
      "metadata": {
        "colab": {
          "base_uri": "https://localhost:8080/"
        },
        "id": "KWDveMEbnVBB",
        "outputId": "438c297b-4f4d-4ef8-d8c2-5e1d86c5f829"
      },
      "execution_count": 8,
      "outputs": [
        {
          "output_type": "stream",
          "name": "stdout",
          "text": [
            "root        1512       1 64 13:44 ?        00:00:01 java ProcessTree.java 3 0\n",
            "root        1538    1512 87 13:44 ?        00:00:00 java ProcessTree.java 2 1\n",
            "root        1544    1512 82 13:44 ?        00:00:00 java ProcessTree.java 1 1\n",
            "root        1547    1512 99 13:44 ?        00:00:01 java ProcessTree.java 0 1\n",
            "root        1596     144  0 13:44 ?        00:00:00 /bin/bash -c ps -ef | grep ProcessTree.java\n",
            "root        1598    1596  0 13:44 ?        00:00:00 grep ProcessTree.java\n"
          ]
        }
      ]
    },
    {
      "cell_type": "markdown",
      "source": [
        "Vemos el arbol de procesos que genero este programa.\n"
      ],
      "metadata": {
        "id": "NeZcnFgWo4_q"
      }
    },
    {
      "cell_type": "code",
      "source": [
        "!pstree -pT 1512"
      ],
      "metadata": {
        "id": "oI4zIYixo5SL",
        "colab": {
          "base_uri": "https://localhost:8080/"
        },
        "outputId": "da6700c6-8fb2-4ac2-8d6e-ac7ee1375f58"
      },
      "execution_count": 9,
      "outputs": [
        {
          "output_type": "stream",
          "name": "stdout",
          "text": [
            "java(1512)─┬─java(1538)─┬─java(1614)\n",
            "           │            └─java(1617)\n",
            "           ├─java(1544)───java(1619)\n",
            "           └─java(1547)\n"
          ]
        }
      ]
    },
    {
      "cell_type": "markdown",
      "source": [
        "Mostramos la salida del programa"
      ],
      "metadata": {
        "id": "zb60VLCVo6QS"
      }
    },
    {
      "cell_type": "code",
      "source": [
        "!cat salidaJava"
      ],
      "metadata": {
        "colab": {
          "base_uri": "https://localhost:8080/"
        },
        "id": "97uwuGTdo2TJ",
        "outputId": "495d9fc5-35c0-4bc0-f3a5-cef48f60656b"
      },
      "execution_count": 10,
      "outputs": [
        {
          "output_type": "stream",
          "name": "stdout",
          "text": [
            "Soy el proceso: 1512, Mi papa es: 1\n",
            "Soy el proceso: 1547, Mi papa es: 1512\n",
            "Soy el proceso: 1538, Mi papa es: 1512\n",
            "Soy el proceso: 1544, Mi papa es: 1512\n",
            "Soy el proceso: 1617, Mi papa es: 1538\n",
            "Soy el proceso: 1614, Mi papa es: 1538\n",
            "Soy el proceso: 1619, Mi papa es: 1544\n"
          ]
        }
      ]
    },
    {
      "cell_type": "markdown",
      "source": [
        "\n",
        "# Python\n",
        "\n"
      ],
      "metadata": {
        "id": "iiq9Po-1qVPf"
      }
    },
    {
      "cell_type": "markdown",
      "source": [
        "Se utiliza el patron de diseño Composite para representar el arbol de procesos."
      ],
      "metadata": {
        "id": "2WcNkKMlAb5b"
      }
    },
    {
      "cell_type": "code",
      "source": [
        "%%writefile process.py\n",
        "import os\n",
        "import time\n",
        "from abc import ABC, abstractmethod\n",
        "from typing import List\n",
        "\n",
        "\n",
        "PROCESO_A = \"A\"\n",
        "PROCESO_B = \"B\"\n",
        "PROCESO_C = \"C\"\n",
        "PROCESO_D = \"D\"\n",
        "PROCESO_E = \"E\"\n",
        "PROCESO_F = \"F\"\n",
        "PROCESO_G = \"G\"\n",
        "\n",
        "\n",
        "class ProcessBase(ABC):\n",
        "    def __init__(self, name):\n",
        "        super().__init__()\n",
        "        self._name = name\n",
        "\n",
        "    @abstractmethod\n",
        "    def execute(self):\n",
        "        pass\n",
        "\n",
        "    def print_message(self):\n",
        "        print(\"Proceso \" + self._name + \" (PID: \" + str(os.getpid()) +\n",
        "              \" | PPID: \" + str(os.getppid()) + \" )\")\n",
        "\n",
        "    def print_error_message(self):\n",
        "        print(\"Error al crear el proceso \" + self._name)\n",
        "\n",
        "\n",
        "class ProcessLeaf(ProcessBase):\n",
        "    def __init__(self, name):\n",
        "        super().__init__(name)\n",
        "\n",
        "    def execute(self):\n",
        "        self.print_message()\n",
        "        time.sleep(30)\n",
        "        os._exit(1)\n",
        "\n",
        "\n",
        "class ProcessParent(ProcessBase):\n",
        "    def __init__(self, name, childs):\n",
        "        super().__init__(name)\n",
        "        self._childs: List[ProcessBase] = childs\n",
        "\n",
        "    def execute(self):\n",
        "        self.print_message()\n",
        "        for child in self._childs:\n",
        "            pid = os.fork()\n",
        "            if pid == 0:\n",
        "                child.execute()\n",
        "            if pid < 0:\n",
        "                self.print_error_message()\n",
        "\n",
        "        time.sleep(30)\n",
        "        for _ in self._childs:\n",
        "            os.wait()\n",
        "        os._exit(1)\n",
        "\n",
        "\n",
        "def main():\n",
        "    process_g = ProcessLeaf(PROCESO_G)\n",
        "    process_f = ProcessLeaf(PROCESO_F)\n",
        "    process_e = ProcessLeaf(PROCESO_E)\n",
        "    process_c = ProcessLeaf(PROCESO_C)\n",
        "\n",
        "    process_b = ProcessParent(PROCESO_B, [process_e, process_f])\n",
        "    process_d = ProcessParent(PROCESO_D, [process_g])\n",
        "    process_a = ProcessParent(PROCESO_A, [process_b, process_c, process_d])\n",
        "\n",
        "    process_a.execute()\n",
        "\n",
        "\n",
        "if __name__ == \"__main__\":\n",
        "    main()\n"
      ],
      "metadata": {
        "colab": {
          "base_uri": "https://localhost:8080/"
        },
        "id": "xjYC2J6QqZG5",
        "outputId": "a92173d7-8ea2-471f-a07d-5370b8c4e25a"
      },
      "execution_count": 1,
      "outputs": [
        {
          "output_type": "stream",
          "name": "stdout",
          "text": [
            "Writing process.py\n"
          ]
        }
      ]
    },
    {
      "cell_type": "markdown",
      "source": [
        "Ponemos en ejecucion el programa obtenido, y mostramos la salida del mismo en el archivo \"salidaPython\""
      ],
      "metadata": {
        "id": "TTOZNwA5fx1n"
      }
    },
    {
      "cell_type": "code",
      "source": [
        "!nohup python process.py 1>salidaPython 2> /dev/null &"
      ],
      "metadata": {
        "id": "1DRqd3N4f-M4"
      },
      "execution_count": 18,
      "outputs": []
    },
    {
      "cell_type": "markdown",
      "source": [
        "Visualizamos los procesos en ejecucion del programa \"main.py\"\n",
        "\n"
      ],
      "metadata": {
        "id": "uVb3xuG1gRbA"
      }
    },
    {
      "cell_type": "code",
      "source": [
        "!ps -ef | grep process.py"
      ],
      "metadata": {
        "colab": {
          "base_uri": "https://localhost:8080/"
        },
        "id": "18nAxNZMgR0t",
        "outputId": "7f4812f3-7f03-4adb-a608-5150b1771382"
      },
      "execution_count": 3,
      "outputs": [
        {
          "output_type": "stream",
          "name": "stdout",
          "text": [
            "root         268       1  1 13:39 ?        00:00:00 python3 process.py\n",
            "root         270     268  0 13:39 ?        00:00:00 python3 process.py\n",
            "root         271     268  0 13:39 ?        00:00:00 python3 process.py\n",
            "root         272     268  0 13:39 ?        00:00:00 python3 process.py\n",
            "root         273     270  0 13:39 ?        00:00:00 python3 process.py\n",
            "root         274     270  0 13:39 ?        00:00:00 python3 process.py\n",
            "root         275     272  0 13:39 ?        00:00:00 python3 process.py\n",
            "root         290     144  0 13:39 ?        00:00:00 /bin/bash -c ps -ef | grep process.py\n",
            "root         292     290  0 13:39 ?        00:00:00 grep process.py\n"
          ]
        }
      ]
    },
    {
      "cell_type": "markdown",
      "source": [
        "Visualizamos el arbol de procesos que genera este programa."
      ],
      "metadata": {
        "id": "x4GlmzAEBBAi"
      }
    },
    {
      "cell_type": "code",
      "source": [
        "!pstree -pc 268"
      ],
      "metadata": {
        "id": "nK_JbQE2AhWT",
        "colab": {
          "base_uri": "https://localhost:8080/"
        },
        "outputId": "b3bc9bd5-1a93-4ec7-ef6e-9de0d4a3730b"
      },
      "execution_count": 4,
      "outputs": [
        {
          "output_type": "stream",
          "name": "stdout",
          "text": [
            "python3(268)─┬─python3(270)─┬─python3(273)\n",
            "             │              └─python3(274)\n",
            "             ├─python3(271)\n",
            "             └─python3(272)───python3(275)\n"
          ]
        }
      ]
    },
    {
      "cell_type": "markdown",
      "source": [
        "Visualizamos la salida por consola"
      ],
      "metadata": {
        "id": "I-Kkcgd1h5DJ"
      }
    },
    {
      "cell_type": "code",
      "source": [
        "!cat salidaPython"
      ],
      "metadata": {
        "id": "UyY3GiC0qU1v"
      },
      "execution_count": 19,
      "outputs": []
    },
    {
      "cell_type": "code",
      "source": [
        "!python3 process.py"
      ],
      "metadata": {
        "id": "9DF1eWFYhjRv",
        "colab": {
          "base_uri": "https://localhost:8080/"
        },
        "outputId": "1cc35a67-e3c4-4277-e254-0bea09ae89f3"
      },
      "execution_count": null,
      "outputs": [
        {
          "output_type": "stream",
          "name": "stdout",
          "text": [
            "Proceso A (PID: 16907 | PPID: 149 )\n",
            "Proceso B (PID: 16908 | PPID: 16907 )\n",
            "Proceso C (PID: 16909 | PPID: 16907 )\n",
            "Proceso F (PID: 16912 | PPID: 16908 )\n",
            "Proceso E (PID: 16911 | PPID: 16908 )\n",
            "Proceso D (PID: 16910 | PPID: 16907 )\n",
            "Proceso G (PID: 16913 | PPID: 16910 )\n"
          ]
        }
      ]
    }
  ]
}