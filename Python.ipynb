{
  "nbformat": 4,
  "nbformat_minor": 0,
  "metadata": {
    "colab": {
      "provenance": [],
      "include_colab_link": true
    },
    "kernelspec": {
      "name": "python3",
      "display_name": "Python 3"
    },
    "language_info": {
      "name": "python"
    }
  },
  "cells": [
    {
      "cell_type": "markdown",
      "metadata": {
        "id": "view-in-github",
        "colab_type": "text"
      },
      "source": [
        "<a href=\"https://colab.research.google.com/github/facundocarballo/ProgramacionConcurrente/blob/main/Python.ipynb\" target=\"_parent\"><img src=\"https://colab.research.google.com/assets/colab-badge.svg\" alt=\"Open In Colab\"/></a>"
      ]
    },
    {
      "cell_type": "markdown",
      "source": [
        "<h1>Python</h1>\n",
        "<p>El programa realiza un producto matricial de dos formas distintas, primero de forma secuencial y luego concurrente usando hilos.\n",
        "Obtenemos como conclusión los tiempos de ejecucion transcurridos, calculando el producto matricial de las 2 maneras solicitadas.\n",
        "Para la realización del ejercicio nos brindamos de las bibliotecas: \n",
        "random - para el armado de las matrices aleatorias.\n",
        "threading - para la utilizacion de hilos.\n",
        "time- para el calculo de los tiempos de ejecucion.</p>"
      ],
      "metadata": {
        "id": "lJrn6j-SlpgI"
      }
    },
    {
      "cell_type": "code",
      "source": [
        "import random\n",
        "import threading\n",
        "import time \n",
        "\n",
        "#########################Declaraciones#############################\n",
        "global A, B\n",
        "N = 5\n",
        "A = [[random.randint(-32, 32) for _ in range(N)] for _ in range(N)]\n",
        "B = [[random.randint(-32, 32) for _ in range(N)] for _ in range(N)]\n",
        "CS = [[0 for _ in range(N)] for _ in range(N)]\n",
        "CH = [[0 for _ in range(N)] for _ in range(N)]\n",
        "####################################################################\n",
        "\n",
        "#########################Multiplicaciones###########################\n",
        "def multiplicar_matrices_secuenciales(N):\n",
        "  for i in range(N):\n",
        "    for j in range(N):\n",
        "      for k in range(N):\n",
        "        CS[i][j] += A[i][k] * B[k][j]\n",
        "\n",
        "  return CS\n",
        "\n",
        "\n",
        "def multiplicar_matrices_con_hilos(N):\n",
        "  def multiplicar_fila_hilo(fila):\n",
        "    for j in range(N):\n",
        "      for k in range(N):\n",
        "        CH[fila][j] += A[fila][k] * B[k][j]\n",
        "\n",
        "  hilos = []\n",
        "  for i in range(N):\n",
        "    hilo = threading.Thread(target=multiplicar_fila_hilo, args=(i,))\n",
        "    hilos.append(hilo)\n",
        "    hilo.start()\n",
        "\n",
        "  for hilo in hilos:\n",
        "    hilo.join()\n",
        "\n",
        "  return CH\n",
        "####################################################################\n",
        "\n",
        "#########################Evaluadores################################\n",
        "\n",
        "def comparar_matrices(A, B):\n",
        "  res = True\n",
        "  for i in range(N):\n",
        "    for j in range(N):\n",
        "      if (A[i][j] != B[i][j]):\n",
        "        res = False\n",
        "        break\n",
        "  return res\n",
        "\n",
        "\n",
        "############################Ejecuciones#############################\n",
        "\n",
        "inicio_secuencial = time.time() # registra el tiempo de inicio\n",
        "resultado_CS = multiplicar_matrices_secuenciales(N)\n",
        "fin_secuencial = time.time() # registra el tiempo de finalización\n",
        "\n",
        "inicio_hilo = time.time() # registra el tiempo de inicio\n",
        "resultado_CH = multiplicar_matrices_con_hilos(N)\n",
        "fin_hilo = time.time() # registra el tiempo de finalización\n",
        "\n",
        "tiempo_total_secuencial = fin_secuencial - inicio_secuencial # calcula el tiempo total de ejecución\n",
        "tiempo_total_hilo = fin_hilo - inicio_hilo # calcula el tiempo total de ejecución\n",
        "print(\"\\n\")\n",
        "print(f\"La función secuencial tardó {tiempo_total_secuencial} segundos en ejecutarse.\")\n",
        "print(f\"La función hilo tardó {tiempo_total_hilo} segundos en ejecutarse.\")\n",
        "print(\"\\n\")\n",
        "\n",
        "###################################################################\n",
        "\n",
        "############################Impresiones#############################\n",
        "print(\"Matriz A:\")\n",
        "for fila in A:\n",
        "  print(fila)\n",
        "print(\"\\nMatriz B:\")\n",
        "for fila in B:\n",
        "  print(fila)\n",
        "print(\"\\nMatriz CH:\")\n",
        "for fila in resultado_CH:\n",
        "  print(fila)\n",
        "print(\"\\nMatriz CS:\")\n",
        "for fila in resultado_CS:\n",
        "  print(fila)\n",
        "\n",
        "if (comparar_matrices(resultado_CS, resultado_CH)):\n",
        "  print(\"\\nLas matrices son iguales.\")\n",
        "else:\n",
        "  print(\"\\nLas matrices son diferentes.\")\n",
        "\n",
        "###################################################################"
      ],
      "metadata": {
        "colab": {
          "base_uri": "https://localhost:8080/"
        },
        "id": "JjBksyspl0dp",
        "outputId": "93880409-e0b9-48c7-8867-7be6f19e78ce"
      },
      "execution_count": 1,
      "outputs": [
        {
          "output_type": "stream",
          "name": "stdout",
          "text": [
            "\n",
            "\n",
            "La función secuencial tardó 0.00015592575073242188 segundos en ejecutarse.\n",
            "La función hilo tardó 0.02773571014404297 segundos en ejecutarse.\n",
            "\n",
            "\n",
            "Matriz A:\n",
            "[-19, -4, -30, -15, 30]\n",
            "[-7, 16, 5, 29, -2]\n",
            "[28, 10, -10, 25, 13]\n",
            "[-13, -5, 21, -26, 10]\n",
            "[20, 10, 15, 9, 12]\n",
            "\n",
            "Matriz B:\n",
            "[2, 7, 11, 6, 11]\n",
            "[17, 0, -14, -17, 10]\n",
            "[16, -30, -3, 3, -17]\n",
            "[29, 3, 1, -8, -30]\n",
            "[-2, -20, -14, 1, -12]\n",
            "\n",
            "Matriz CH:\n",
            "[-1081, 122, -498, 14, 351]\n",
            "[1183, -72, -259, -533, -848]\n",
            "[765, 311, 41, -219, -328]\n",
            "[-549, -999, -302, 288, 110]\n",
            "[687, -523, -124, -65, -349]\n",
            "\n",
            "Matriz CS:\n",
            "[-1081, 122, -498, 14, 351]\n",
            "[1183, -72, -259, -533, -848]\n",
            "[765, 311, 41, -219, -328]\n",
            "[-549, -999, -302, 288, 110]\n",
            "[687, -523, -124, -65, -349]\n",
            "\n",
            "Las matrices son iguales.\n"
          ]
        }
      ]
    },
    {
      "cell_type": "markdown",
      "source": [],
      "metadata": {
        "id": "aCtL28-CouTV"
      }
    }
  ]
}