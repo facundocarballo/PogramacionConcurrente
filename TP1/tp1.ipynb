{
  "nbformat": 4,
  "nbformat_minor": 0,
  "metadata": {
    "colab": {
      "provenance": []
    },
    "kernelspec": {
      "name": "python3",
      "display_name": "Python 3"
    },
    "language_info": {
      "name": "python"
    }
  },
  "cells": [
    {
      "cell_type": "markdown",
      "source": [
        "# C++\n",
        "\n"
      ],
      "metadata": {
        "id": "M2tEiuhSDSyp"
      }
    },
    {
      "cell_type": "markdown",
      "source": [
        "El programa crea un árbol de procesos, el proceso A crea tres procesos hijos, llamados B, C y D, el proceso hijo B crea otros dos procesos hijos, E y F, y el proceso D crea un último proceso hijo llamado G. Se le agregó tiempos de retraso para poder monitorear con el comando ps la correcta creación de los procesos."
      ],
      "metadata": {
        "id": "c2Gf7bSyDa3j"
      }
    },
    {
      "cell_type": "code",
      "source": [
        "%%writefile Fork.cpp\n",
        "#include <iostream>\n",
        "#include <unistd.h>\n",
        "#include <sys/wait.h>\n",
        "\n",
        "using namespace std;\n",
        "\n",
        "void print_process_message(char char_of_process)\n",
        "{\n",
        "    cout << \"Proceso \" << char_of_process << \" (PID: \" << getpid() << \" | PPID: \" << getppid() << \" )\" << endl;\n",
        "}\n",
        "\n",
        "int main(int argc, char *argv[])\n",
        "{\n",
        "    pid_t pidA, pidB, pidC, pidD, pidE, pidF, pidG;\n",
        "    pidA = getpid();\n",
        "    print_process_message('A');\n",
        "    pidB = fork();\n",
        "    if (pidB == 0)\n",
        "    {\n",
        "        pidB = getpid();\n",
        "        print_process_message('B');\n",
        "        pidE = fork();\n",
        "        if (pidE == 0)\n",
        "        {\n",
        "            pidE = getpid();\n",
        "            print_process_message('E');\n",
        "            sleep(30);\n",
        "            exit(0);\n",
        "        }\n",
        "        pidF = fork();\n",
        "        if (pidF == 0)\n",
        "        {\n",
        "            pidF = getpid();\n",
        "            print_process_message('F');\n",
        "            sleep(30);\n",
        "            exit(0);\n",
        "        }\n",
        "        sleep(30);\n",
        "        wait(NULL);\n",
        "        wait(NULL);\n",
        "        exit(0);\n",
        "    }\n",
        "    pidC = fork();\n",
        "    if (pidC == 0)\n",
        "    {\n",
        "        pidC = getpid();\n",
        "        print_process_message('C');\n",
        "        sleep(30);\n",
        "        exit(0);\n",
        "    }\n",
        "    pidD = fork();\n",
        "    if (pidD == 0)\n",
        "    {\n",
        "        pidD = getpid();\n",
        "        print_process_message('D');\n",
        "        pidG = fork();\n",
        "        if (pidG == 0)\n",
        "        {\n",
        "            pidG = getpid();\n",
        "            print_process_message('G');\n",
        "            sleep(30);\n",
        "            exit(0);\n",
        "        }\n",
        "        sleep(30);\n",
        "        wait(NULL);\n",
        "        exit(0);\n",
        "    }\n",
        "    sleep(30);\n",
        "    wait(NULL);\n",
        "    wait(NULL);\n",
        "    wait(NULL);\n",
        "    return 0;\n",
        "}"
      ],
      "metadata": {
        "colab": {
          "base_uri": "https://localhost:8080/"
        },
        "id": "I0auENGZDzgJ",
        "outputId": "526c40b7-178f-45f8-f0c7-e8bd680a7a61"
      },
      "execution_count": null,
      "outputs": [
        {
          "output_type": "stream",
          "name": "stdout",
          "text": [
            "Writing Fork.cpp\n"
          ]
        }
      ]
    },
    {
      "cell_type": "markdown",
      "source": [
        "Verificamos que existe el archivo Fork.cpp"
      ],
      "metadata": {
        "id": "g8clJkkKnM7c"
      }
    },
    {
      "cell_type": "code",
      "execution_count": null,
      "metadata": {
        "id": "yME6XO2F7N5m",
        "colab": {
          "base_uri": "https://localhost:8080/"
        },
        "outputId": "a53f802b-5854-4ae3-de85-2bf63477b634"
      },
      "outputs": [
        {
          "output_type": "stream",
          "name": "stdout",
          "text": [
            "total 8\n",
            "-rw-r--r-- 1 root root 1669 Apr 11 18:33 Fork.cpp\n",
            "drwxr-xr-x 1 root root 4096 Apr 10 13:31 sample_data\n"
          ]
        }
      ],
      "source": [
        "!ls -l"
      ]
    },
    {
      "cell_type": "markdown",
      "source": [
        "Compilamos el archivo Fork.cpp y generamos el binario."
      ],
      "metadata": {
        "id": "bAT7SpH3nSBX"
      }
    },
    {
      "cell_type": "code",
      "source": [
        "%%shell\n",
        "g++ Fork.cpp -o Fork.bin"
      ],
      "metadata": {
        "colab": {
          "base_uri": "https://localhost:8080/"
        },
        "id": "Rj8iHoMsN4Sj",
        "outputId": "91451e19-a32b-41b0-b4fe-5ac47e9f6e41"
      },
      "execution_count": null,
      "outputs": [
        {
          "output_type": "execute_result",
          "data": {
            "text/plain": []
          },
          "metadata": {},
          "execution_count": 18
        }
      ]
    },
    {
      "cell_type": "markdown",
      "source": [
        "Ponemos en ejecucion el programa obtenido, y mostramos la salida del mismo en el archivo \"salidaC\""
      ],
      "metadata": {
        "id": "Vz6ORhnWnXne"
      }
    },
    {
      "cell_type": "code",
      "source": [
        "%%shell\n",
        "nohup ./Fork.bin 1>salidaC 2>/dev/null & "
      ],
      "metadata": {
        "colab": {
          "base_uri": "https://localhost:8080/"
        },
        "id": "p1mizLI_G0jJ",
        "outputId": "781ac40c-0d16-465b-8705-6926517d53f5"
      },
      "execution_count": null,
      "outputs": [
        {
          "output_type": "execute_result",
          "data": {
            "text/plain": []
          },
          "metadata": {},
          "execution_count": 19
        }
      ]
    },
    {
      "cell_type": "markdown",
      "source": [
        "Mostramos la salida del programa. "
      ],
      "metadata": {
        "id": "LN030Wx_pb4C"
      }
    },
    {
      "cell_type": "code",
      "source": [
        "%%shell\n",
        "g++ -o Fork Fork.cpp\n",
        "./Fork"
      ],
      "metadata": {
        "colab": {
          "base_uri": "https://localhost:8080/"
        },
        "id": "MWacYZxepJV8",
        "outputId": "c90e57b3-f3aa-42b3-e42d-57808779e7c3"
      },
      "execution_count": null,
      "outputs": [
        {
          "output_type": "stream",
          "name": "stdout",
          "text": [
            "Proceso A con PID 4965, mi padre es: 954\n",
            "Proceso B con PID 4971, mi padre es: 4965\n",
            "Proceso C con PID 4972, mi padre es: 4965\n",
            "Proceso D con PID 4974, mi padre es: 4965\n",
            "Proceso F con PID 4975, mi padre es: 4971\n",
            "Proceso E con PID 4973, mi padre es: 4971\n",
            "Proceso G con ID 4976, mi padre es: 4974\n"
          ]
        },
        {
          "output_type": "execute_result",
          "data": {
            "text/plain": []
          },
          "metadata": {},
          "execution_count": 21
        }
      ]
    },
    {
      "cell_type": "markdown",
      "source": [
        "Visualizamos los procesos generados por este programa"
      ],
      "metadata": {
        "id": "141xTQ4dne0n"
      }
    },
    {
      "cell_type": "code",
      "source": [
        "%%shell\n",
        "ps -ef | grep Fork.bin"
      ],
      "metadata": {
        "colab": {
          "base_uri": "https://localhost:8080/"
        },
        "id": "3LZUdFJ3NcP-",
        "outputId": "09787a01-9054-4f9a-c85e-a556196363eb"
      },
      "execution_count": null,
      "outputs": [
        {
          "output_type": "stream",
          "name": "stdout",
          "text": [
            "root        1570       1  0 18:35 ?        00:00:00 ./Fork.bin\n",
            "root        1571    1570  0 18:35 ?        00:00:00 ./Fork.bin\n",
            "root        1572    1570  0 18:35 ?        00:00:00 ./Fork.bin\n",
            "root        1573    1570  0 18:35 ?        00:00:00 ./Fork.bin\n",
            "root        1574    1573  0 18:35 ?        00:00:00 ./Fork.bin\n",
            "root        1575    1571  0 18:35 ?        00:00:00 ./Fork.bin\n",
            "root        1576    1571  0 18:35 ?        00:00:00 ./Fork.bin\n",
            "root        1591     954  0 18:35 ?        00:00:00 /bin/bash -c ps -ef | grep Fork.bin \n",
            "root        1593    1591  0 18:35 ?        00:00:00 grep Fork.bin\n"
          ]
        },
        {
          "output_type": "execute_result",
          "data": {
            "text/plain": []
          },
          "metadata": {},
          "execution_count": 16
        }
      ]
    },
    {
      "cell_type": "markdown",
      "source": [
        "Ahora visualizamos el arbol de procesos, ejecutando el siguiente comando:\n",
        "***pstree -pc PID***\n",
        "\n",
        "**PID**: PID del proceso A (Lo pueden encontrar dentro del archivo \"salidaC\")"
      ],
      "metadata": {
        "id": "f4JBJBjemcQM"
      }
    },
    {
      "cell_type": "code",
      "source": [
        "%%shell\n",
        "pstree -pc 1570"
      ],
      "metadata": {
        "colab": {
          "base_uri": "https://localhost:8080/"
        },
        "id": "J6R9aeKuNlfA",
        "outputId": "52cbf42c-f4ba-43e3-c154-503b60101971"
      },
      "execution_count": null,
      "outputs": [
        {
          "output_type": "stream",
          "name": "stdout",
          "text": [
            "Fork.bin(1570)─┬─Fork.bin(1571)─┬─Fork.bin(1575)\n",
            "               │                └─Fork.bin(1576)\n",
            "               ├─Fork.bin(1572)\n",
            "               └─Fork.bin(1573)───Fork.bin(1574)\n"
          ]
        },
        {
          "output_type": "execute_result",
          "data": {
            "text/plain": []
          },
          "metadata": {},
          "execution_count": 17
        }
      ]
    },
    {
      "cell_type": "markdown",
      "source": [
        "\n",
        "# Java\n",
        "\n",
        "\n"
      ],
      "metadata": {
        "id": "R-aEwePQoNHq"
      }
    },
    {
      "cell_type": "markdown",
      "source": [
        "El programa recibe 2 argumentos, la cantidad de hijos que debe generar el proceso al ejecutarse, y el nivel de jerarquia que este tiene. Para cumplimentar el ejercicio tiene un corte cuando alcanzan el nivel 2."
      ],
      "metadata": {
        "id": "FuZgZjIkoYpm"
      }
    },
    {
      "cell_type": "code",
      "source": [
        "%%writefile ProcessTree.java\n",
        "package processTree;\n",
        "\n",
        "import java.io.IOException;\n",
        "\n",
        "public class ProcessTree {\n",
        "\t\n",
        "\tpublic static void main(String[] args) throws IOException, InterruptedException {\n",
        "\t\t\n",
        "\t\tProcessHandle process = ProcessHandle.current();\n",
        "\t\tlong pid = process.pid();\n",
        "\t\tlong ppid = process.parent().get().pid();\n",
        "\t\tSystem.out.println(\"Soy el proceso: \"+pid+\", Mi papa es: \"+ppid);\n",
        "\t\t\n",
        "\t\tint level = Integer.parseInt(args[1]);\n",
        "\t\tif(level==2) {\n",
        "\t\t\tThread.sleep(10000);\n",
        "\t\t\treturn;\n",
        "\t\t}\t\n",
        "\t\t\n",
        "\t\tint childrenNum = Integer.parseInt(args[0]);\n",
        "\t\t\n",
        "\t\tProcess childs[] = new Process[childrenNum];\n",
        "\t\t\n",
        "\t\tfor (int i = 1; i <= childrenNum; i++) {\n",
        "\t\t\tProcessBuilder pb = new ProcessBuilder(\"java\",\"ProcessTree.java\",String.valueOf(childrenNum-i),String.valueOf(level+1));\n",
        "\t\t\tpb.inheritIO();\n",
        "\t\t\tchilds[i-1] = pb.start();\n",
        "\t\t}\n",
        "\t\tThread.sleep(10000);\n",
        "\t\tfor (int i = 0; i < childs.length; i++) {\n",
        "\t\t\tchilds[i].waitFor();\n",
        "\t\t}\n",
        "\t\t\n",
        "\t}\n",
        "\t\n",
        "}"
      ],
      "metadata": {
        "colab": {
          "base_uri": "https://localhost:8080/"
        },
        "id": "FFB9QmA1oiSP",
        "outputId": "b2466deb-64ef-40cf-a8c9-af4e9fd2090b"
      },
      "execution_count": null,
      "outputs": [
        {
          "output_type": "stream",
          "name": "stdout",
          "text": [
            "Writing ProcessTree.java\n"
          ]
        }
      ]
    },
    {
      "cell_type": "markdown",
      "source": [
        "Ponemos en ejecucion el programa obtenido, y mostramos la salida del mismo en el archivo \"salidaJava\""
      ],
      "metadata": {
        "id": "ryYexSdgoroC"
      }
    },
    {
      "cell_type": "code",
      "source": [
        "!nohup java ProcessTree.java 3 0 1>salidaJava 2>/dev/null &"
      ],
      "metadata": {
        "id": "6FUD3l8MowY-"
      },
      "execution_count": null,
      "outputs": []
    },
    {
      "cell_type": "markdown",
      "source": [
        "Mostramos la salida del programa"
      ],
      "metadata": {
        "id": "zb60VLCVo6QS"
      }
    },
    {
      "cell_type": "code",
      "source": [
        "!java ProcessTree.java 3 0"
      ],
      "metadata": {
        "colab": {
          "base_uri": "https://localhost:8080/"
        },
        "id": "97uwuGTdo2TJ",
        "outputId": "4eeb4d63-53de-41c9-b2a3-43bb71368f40"
      },
      "execution_count": null,
      "outputs": [
        {
          "output_type": "stream",
          "name": "stdout",
          "text": [
            "Soy el proceso: 7253, Mi papa es: 954\n",
            "Soy el proceso: 7285, Mi papa es: 7253\n",
            "Soy el proceso: 7275, Mi papa es: 7253\n",
            "Soy el proceso: 7290, Mi papa es: 7253\n",
            "Soy el proceso: 7365, Mi papa es: 7275\n",
            "Soy el proceso: 7357, Mi papa es: 7285\n",
            "Soy el proceso: 7369, Mi papa es: 7275\n"
          ]
        }
      ]
    },
    {
      "cell_type": "markdown",
      "source": [
        "Vemos el arbol de procesos que genero este programa.\n",
        "\n",
        "***IMPORTANTE:*** Utilizar el PID del primer proceso que sale dentro del archivo salidaJava.\n",
        "\n",
        "*NO UTILIZAR EL PID DEL EJEMPLO DE ARRIBA PORQUE NO DEJA CORRER HASTA QUE NO TERMINEN TODOS LOS PROCESOS*"
      ],
      "metadata": {
        "id": "NeZcnFgWo4_q"
      }
    },
    {
      "cell_type": "code",
      "source": [
        "!pstree -pT 7253"
      ],
      "metadata": {
        "id": "oI4zIYixo5SL"
      },
      "execution_count": null,
      "outputs": []
    },
    {
      "cell_type": "markdown",
      "source": [
        "\n",
        "# Python\n",
        "\n"
      ],
      "metadata": {
        "id": "iiq9Po-1qVPf"
      }
    },
    {
      "cell_type": "markdown",
      "source": [
        "El programa crea un árbol de procesos, el proceso A crea tres procesos hijos, llamados B, C y D, el proceso hijo B crea otros dos procesos hijos, E y F, y el proceso D crea un último proceso hijo llamado G. Se le agregó tiempos de retraso para poder monitorear con el comando ps la correcta creación de los procesos."
      ],
      "metadata": {
        "id": "2WcNkKMlAb5b"
      }
    },
    {
      "cell_type": "code",
      "source": [
        "\n",
        "import os\n",
        "import sys\n",
        "import time\n",
        "\n",
        "def print_process_message(char_of_process):\n",
        "    print(\"Soy el proceso \" + char_of_process + \" ( PID: \" + str(os.getpid()) + \" | PPID: \" + str(os.getppid()) + \" )\")\n",
        "\n",
        "\t\n",
        "def parent():\n",
        "\n",
        "    print_process_message('A')\n",
        "    pidB = os.fork()\n",
        "\n",
        "    if pidB == 0:\n",
        "        pidB = os.getpid()\n",
        "        print_process_message('B')\n",
        "        pidE = os.fork()\n",
        "        if pidE == 0:\n",
        "            pidE = os.getpid()\n",
        "            print_process_message('E')\n",
        "            time.sleep(30)\n",
        "            exit(0)\n",
        "        \n",
        "        pidF = os.fork()\n",
        "        if pidF == 0:\n",
        "            pidF = os.getpid()\n",
        "            print_process_message('F')\n",
        "            time.sleep(30)\n",
        "            exit(0)\n",
        "        \n",
        "        time.sleep(30)\n",
        "        exit(0)\n",
        "    \n",
        "    pidC = os.fork()\n",
        "    if pidC == 0:\n",
        "        pidC = os.getpid()\n",
        "        print_process_message('C')\n",
        "        time.sleep(30)\n",
        "        exit(0)\n",
        "    \n",
        "    pidD = os.fork()\n",
        "    if pidD == 0:\n",
        "        pidD = os.getpid()\n",
        "        print_process_message('D')\n",
        "        pidG = os.fork()\n",
        "        if pidG == 0:\n",
        "            pidG = os.getpid()\n",
        "            print_process_message('G')\n",
        "            time.sleep(30)\n",
        "            exit(0)\n",
        "        \n",
        "        time.sleep(30)\n",
        "        exit(0)\n",
        "    \n",
        "    time.sleep(30)\n",
        "    return 0\n",
        "    \n",
        "    \n",
        "\n",
        "parent()"
      ],
      "metadata": {
        "colab": {
          "base_uri": "https://localhost:8080/"
        },
        "id": "xjYC2J6QqZG5",
        "outputId": "eddaf95a-5f0f-40d3-d4a7-cbeffb6b7d8c"
      },
      "execution_count": 2,
      "outputs": [
        {
          "output_type": "stream",
          "name": "stdout",
          "text": [
            "Proceso A con PID 8875, mi padre es: 76\n",
            "Proceso B con PID 31023, mi padre es: 8875Proceso A con PID 8875, mi padre es: 76\n",
            "Proceso D con PID 31027, mi padre es: 8875\n",
            "\n",
            "Proceso A con PID 8875, mi padre es: 76\n",
            "Proceso C con PID 31024, mi padre es: 8875Proceso F con PID 31035, mi padre es: 31023Proceso E con PID 31034, mi padre es: 31023\n",
            "\n",
            "\n",
            "Proceso G con ID 31038, mi padre es: 31027\n",
            "Proceso A con PID 8875, mi padre es: 76\n"
          ]
        },
        {
          "output_type": "execute_result",
          "data": {
            "text/plain": [
              "0"
            ]
          },
          "metadata": {},
          "execution_count": 2
        },
        {
          "output_type": "stream",
          "name": "stdout",
          "text": [
            "Proceso C con PID 31181, mi padre es: 31023\n",
            "Proceso D con PID 31182, mi padre es: 31023\n",
            "Proceso G con ID 31191, mi padre es: 31182Proceso D con PID 31194, mi padre es: 31024\n",
            "\n",
            "Proceso F con PID 31199, mi padre es: 31034\n",
            "Proceso G con ID 31204, mi padre es: 31194\n"
          ]
        }
      ]
    },
    {
      "cell_type": "markdown",
      "source": [
        "Visualizamos el arbol de procesos que genera este programa."
      ],
      "metadata": {
        "id": "x4GlmzAEBBAi"
      }
    },
    {
      "cell_type": "code",
      "source": [
        "!pstree -pc 8875"
      ],
      "metadata": {
        "id": "nK_JbQE2AhWT"
      },
      "execution_count": 1,
      "outputs": []
    }
  ]
}