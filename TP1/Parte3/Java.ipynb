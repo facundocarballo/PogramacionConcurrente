{
  "nbformat": 4,
  "nbformat_minor": 0,
  "metadata": {
    "colab": {
      "provenance": [],
      "collapsed_sections": [
        "j0Ld84Qk_UDN",
        "UCws6AF8P_jM",
        "1FkL3YusQHmO"
      ],
      "include_colab_link": true
    },
    "kernelspec": {
      "name": "python3",
      "display_name": "Python 3"
    },
    "language_info": {
      "name": "python"
    }
  },
  "cells": [
    {
      "cell_type": "markdown",
      "metadata": {
        "id": "view-in-github",
        "colab_type": "text"
      },
      "source": [
        "<a href=\"https://colab.research.google.com/github/facundocarballo/ProgramacionConcurrente/blob/main/TP3/Java.ipynb\" target=\"_parent\"><img src=\"https://colab.research.google.com/assets/colab-badge.svg\" alt=\"Open In Colab\"/></a>"
      ]
    },
    {
      "cell_type": "markdown",
      "source": [
        "# Sockets"
      ],
      "metadata": {
        "id": "c2cy2NrMQDQQ"
      }
    },
    {
      "cell_type": "markdown",
      "source": [
        "Este sistema cuenta con 2 procesos, un proceso que hace de Servidor y otro proceso que hace de Cliente.\n",
        "\n",
        "El cliente envia una cadena de caracteres (que puede contener numeros, signos y letras). El Servidor recibe esa informacion y la procesa. Obteniendo estos datos:\n",
        "\n",
        "- Cantidad de caracteres totales.\n",
        "- Cantidad de letras.\n",
        "- Cantidad de digitos.\n",
        "- Cantidad de caracteres que no son letra ni digito."
      ],
      "metadata": {
        "id": "19935vX0QFj6"
      }
    },
    {
      "cell_type": "markdown",
      "source": [
        "# Respuesta"
      ],
      "metadata": {
        "id": "j0Ld84Qk_UDN"
      }
    },
    {
      "cell_type": "code",
      "source": [
        "%%writefile Respuesta.java\n",
        "import java.io.Serializable;\n",
        "\n",
        "public class Respuesta implements Serializable \n",
        "{\n",
        "  private String caractTotales;\n",
        "  private String cantLetras;\n",
        "  private String cantDigitos;\n",
        "  private String cantidadOtros;\n",
        "\n",
        "  public Respuesta(String caractTotales, String cantLetras, String cantDigitos, String cantidadOtros)\n",
        "  {\n",
        "    this.caractTotales = caractTotales;\n",
        "    this.cantLetras = cantLetras;\n",
        "    this.cantDigitos = cantDigitos;\n",
        "    this.cantidadOtros = cantidadOtros;\n",
        "  }\n",
        "\n",
        "  @Override\n",
        "  public String toString()\n",
        "  {\n",
        "    return caractTotales + cantLetras + cantDigitos + cantidadOtros;\n",
        "  }\n",
        "  \n",
        "  // Getter methods for private fields\n",
        "  public String getCaractTotales()\n",
        "  {\n",
        "    return caractTotales;\n",
        "  }\n",
        "\n",
        "  public String getCantLetras()\n",
        "  {\n",
        "    return cantLetras;\n",
        "  }\n",
        "\n",
        "  public String getCantDigitos()\n",
        "  {\n",
        "    return cantDigitos;\n",
        "  }\n",
        "\n",
        "  public String getCantidadOtros()\n",
        "  {\n",
        "    return cantidadOtros;\n",
        "  }\n",
        "}\n"
      ],
      "metadata": {
        "colab": {
          "base_uri": "https://localhost:8080/"
        },
        "id": "bd9rCHEy_TwK",
        "outputId": "17d03987-11be-46fb-8b6e-2dca05d04bc5"
      },
      "execution_count": 26,
      "outputs": [
        {
          "output_type": "stream",
          "name": "stdout",
          "text": [
            "Overwriting Respuesta.java\n"
          ]
        }
      ]
    },
    {
      "cell_type": "markdown",
      "source": [
        "# Servidor"
      ],
      "metadata": {
        "id": "UCws6AF8P_jM"
      }
    },
    {
      "cell_type": "code",
      "execution_count": 25,
      "metadata": {
        "colab": {
          "base_uri": "https://localhost:8080/"
        },
        "id": "7oG-8_Hpnhbl",
        "outputId": "65fded67-bae4-43bb-d75a-9ca0467be3f9"
      },
      "outputs": [
        {
          "output_type": "stream",
          "name": "stdout",
          "text": [
            "Overwriting Servidor.java\n"
          ]
        }
      ],
      "source": [
        "%%writefile Servidor.java\n",
        "import java.io.IOException;\n",
        "import java.io.ObjectOutputStream;\n",
        "import java.io.Serializable;\n",
        "import java.net.ServerSocket;\n",
        "import java.net.Socket;\n",
        "import java.util.Scanner;\n",
        "\n",
        "public class Servidor \n",
        "{\n",
        "    private static final int PUERTO = 5000;\n",
        "\n",
        "    public static void main(String[] args) \n",
        "    {\n",
        "        try \n",
        "        {\n",
        "            ServerSocket socketServidor = new ServerSocket(PUERTO);\n",
        "            System.out.println(\"Servidor iniciado en el puerto \" + PUERTO);\n",
        "\n",
        "            System.out.println(\"Esperando conexión de un cliente...\");\n",
        "            Socket socketCliente = socketServidor.accept();\n",
        "            System.out.println(\"Cliente conectado desde la dirección \" + socketCliente.getInetAddress());\n",
        "\n",
        "            Scanner entrada = new Scanner(socketCliente.getInputStream());\n",
        "            ObjectOutputStream salida = new ObjectOutputStream(socketCliente.getOutputStream());\n",
        "\n",
        "            String mensajeCliente = entrada.nextLine();\n",
        "            System.out.println(mensajeCliente);\n",
        "\n",
        "            int caracteresTotales = mensajeCliente.length();\n",
        "            int cantidadLetras = 0;\n",
        "            int cantidadDigitos = 0;\n",
        "            int cantidadOtros = 0;\n",
        "\n",
        "            for (char c : mensajeCliente.toCharArray()) \n",
        "            {\n",
        "                if (Character.isLetter(c)) \n",
        "                {\n",
        "                    cantidadLetras++;\n",
        "                } \n",
        "                else if (Character.isDigit(c)) \n",
        "                {\n",
        "                    cantidadDigitos++;\n",
        "                } \n",
        "                else \n",
        "                {\n",
        "                    cantidadOtros++;\n",
        "                }\n",
        "            }\n",
        "\n",
        "            String s1 = \"Cantidad de caracteres totales: \" + caracteresTotales + \"\\n\";\n",
        "            String s2 = \"Cantidad de letras: \" + cantidadLetras + \"\\n\";\n",
        "            String s3 = \"Cantidad de dígitos: \" + cantidadDigitos + \"\\n\";\n",
        "            String s4 = \"Cantidad de caracteres que no son letra ni dígito: \" + cantidadOtros + \"\\n\";\n",
        "            Respuesta respuesta = new Respuesta(s1, s2, s3, s4);\n",
        "            salida.writeObject(respuesta);\n",
        "\n",
        "            entrada.close();\n",
        "            salida.close();\n",
        "            socketCliente.close();\n",
        "            socketServidor.close();\n",
        "        } catch (IOException e) \n",
        "        {\n",
        "            e.printStackTrace();\n",
        "        }\n",
        "    }\n",
        "}"
      ]
    },
    {
      "cell_type": "markdown",
      "source": [
        "# Cliente"
      ],
      "metadata": {
        "id": "1FkL3YusQHmO"
      }
    },
    {
      "cell_type": "code",
      "source": [
        "%%writefile Cliente.java\n",
        "import java.io.IOException;\n",
        "import java.io.ObjectInputStream;\n",
        "import java.net.Socket;\n",
        "\n",
        "public class Cliente \n",
        "{\n",
        "    private static final String DIRECCION_SERVIDOR = \"localhost\";\n",
        "    private static final int PUERTO_SERVIDOR = 5000;\n",
        "\n",
        "    public static void main(String[] args) throws ClassNotFoundException \n",
        "    {\n",
        "        String mensaje = args[0] + \"\\n\";\n",
        "\n",
        "        try \n",
        "        {\n",
        "            Socket socketCliente = new Socket(DIRECCION_SERVIDOR, PUERTO_SERVIDOR);\n",
        "            socketCliente.getOutputStream().write(mensaje.getBytes());\n",
        "\n",
        "            ObjectInputStream entrada = new ObjectInputStream(socketCliente.getInputStream());\n",
        "            Respuesta respuesta = (Respuesta) entrada.readObject();\n",
        "            System.out.println(respuesta);\n",
        "\n",
        "            entrada.close();\n",
        "            socketCliente.close();\n",
        "        } catch (IOException e) \n",
        "        {\n",
        "            e.printStackTrace();\n",
        "        }\n",
        "    }\n",
        "}\n"
      ],
      "metadata": {
        "colab": {
          "base_uri": "https://localhost:8080/"
        },
        "id": "MhsjpCzAnlVf",
        "outputId": "d28336e5-2c8c-4a70-ab73-d36340bdc73b"
      },
      "execution_count": 24,
      "outputs": [
        {
          "output_type": "stream",
          "name": "stdout",
          "text": [
            "Overwriting Cliente.java\n"
          ]
        }
      ]
    },
    {
      "cell_type": "markdown",
      "source": [
        "# Ejecucion"
      ],
      "metadata": {
        "id": "--TuG7HzQJ9D"
      }
    },
    {
      "cell_type": "markdown",
      "source": [
        "Compilamos el Servidor, generando un archivo llamado Servidor.class"
      ],
      "metadata": {
        "id": "FOCEIu-KQf3W"
      }
    },
    {
      "cell_type": "code",
      "source": [
        "!javac Servidor.java "
      ],
      "metadata": {
        "id": "L4-8xildnlkJ"
      },
      "execution_count": 4,
      "outputs": []
    },
    {
      "cell_type": "markdown",
      "source": [
        "Compilamos el Cliente, generando un archivo llamado Cliente.class"
      ],
      "metadata": {
        "id": "TYPJkEg0Qogl"
      }
    },
    {
      "cell_type": "code",
      "source": [
        "!javac Cliente.java "
      ],
      "metadata": {
        "id": "4sOpSdKCnlw9"
      },
      "execution_count": 5,
      "outputs": []
    },
    {
      "cell_type": "markdown",
      "source": [
        "Compilamos la Respuesta, generando un archivo llamado Respuesta.class"
      ],
      "metadata": {
        "id": "V9mqwNoM_eIH"
      }
    },
    {
      "cell_type": "code",
      "source": [
        "!javac Respuesta.java "
      ],
      "metadata": {
        "id": "rz2l0Vvl_eAa"
      },
      "execution_count": 6,
      "outputs": []
    },
    {
      "cell_type": "markdown",
      "source": [
        "Ejecutamos en segundo plano el Servidor."
      ],
      "metadata": {
        "id": "vqQki5FQQvdz"
      }
    },
    {
      "cell_type": "code",
      "source": [
        "!nohup java Servidor > Servidor.txt 2> Servidor.txt &"
      ],
      "metadata": {
        "id": "_Ceqc2WjEq3G"
      },
      "execution_count": 17,
      "outputs": []
    },
    {
      "cell_type": "markdown",
      "source": [
        "Visualizamos que este corriendo el Servidor."
      ],
      "metadata": {
        "id": "ZB84MmrfSAxZ"
      }
    },
    {
      "cell_type": "code",
      "source": [
        "!ps -ef | grep Servidor.class"
      ],
      "metadata": {
        "id": "Umq6S-o7SEsM",
        "colab": {
          "base_uri": "https://localhost:8080/"
        },
        "outputId": "2ad9621f-ff3d-4d65-ba9b-da463bad97f2"
      },
      "execution_count": 18,
      "outputs": [
        {
          "output_type": "stream",
          "name": "stdout",
          "text": [
            "root        3360     593  0 19:25 ?        00:00:00 /bin/bash -c ps -ef | grep Servidor.class\n",
            "root        3362    3360  0 19:25 ?        00:00:00 grep Servidor.class\n"
          ]
        }
      ]
    },
    {
      "cell_type": "markdown",
      "source": [
        "Verificamos que no haya imprimido ningun error el Servidor a la hora de crearse."
      ],
      "metadata": {
        "id": "db5ACk3tSK_z"
      }
    },
    {
      "cell_type": "code",
      "source": [
        "!cat Servidor.txt"
      ],
      "metadata": {
        "id": "nizhOQEPSQCy",
        "colab": {
          "base_uri": "https://localhost:8080/"
        },
        "outputId": "485ee180-831c-4728-df0f-ab189bbba8e1"
      },
      "execution_count": 19,
      "outputs": [
        {
          "output_type": "stream",
          "name": "stdout",
          "text": [
            "Servidor iniciado en el puerto 5000\n",
            "Esperando conexión de un cliente...\n"
          ]
        }
      ]
    },
    {
      "cell_type": "markdown",
      "source": [
        "Ejecutamos en segundo plano al Cliente."
      ],
      "metadata": {
        "id": "91NDWXL4Sfhv"
      }
    },
    {
      "cell_type": "code",
      "source": [
        "!nohup java Cliente hola1234 > Cliente.txt 2> Cliente.txt &"
      ],
      "metadata": {
        "id": "FaZDf_GvE6uz"
      },
      "execution_count": 22,
      "outputs": []
    },
    {
      "cell_type": "markdown",
      "source": [
        "Visualizamos la salida del archivo Cliente."
      ],
      "metadata": {
        "id": "7Aar32zySrHy"
      }
    },
    {
      "cell_type": "code",
      "source": [
        "!cat Cliente.txt"
      ],
      "metadata": {
        "id": "QHhv86ozSt69",
        "colab": {
          "base_uri": "https://localhost:8080/"
        },
        "outputId": "2a9776c7-1079-4003-bd01-f1a811e136e3"
      },
      "execution_count": 23,
      "outputs": [
        {
          "output_type": "stream",
          "name": "stdout",
          "text": [
            "Cantidad de caracteres totales: 8\n",
            "Cantidad de letras: 4\n",
            "Cantidad de dígitos: 4\n",
            "Cantidad de caracteres que no son letra ni dígito: 0\n",
            "\n"
          ]
        }
      ]
    }
  ]
}