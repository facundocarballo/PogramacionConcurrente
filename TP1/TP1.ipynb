{
  "nbformat": 4,
  "nbformat_minor": 0,
  "metadata": {
    "colab": {
      "provenance": []
    },
    "kernelspec": {
      "name": "python3",
      "display_name": "Python 3"
    },
    "language_info": {
      "name": "python"
    }
  },
  "cells": [
    {
      "cell_type": "markdown",
      "source": [
        "# C++\n",
        "\n"
      ],
      "metadata": {
        "id": "M2tEiuhSDSyp"
      }
    },
    {
      "cell_type": "markdown",
      "source": [
        "El programa crea un árbol de procesos, el proceso A crea tres procesos hijos, llamados B, C y D, el proceso hijo B crea otros dos procesos hijos, E y F, y el proceso D crea un último proceso hijo llamado G. Se le agregó tiempos de retraso para poder monitorear con el comando ps la correcta creación de los procesos."
      ],
      "metadata": {
        "id": "c2Gf7bSyDa3j"
      }
    },
    {
      "cell_type": "code",
      "source": [
        "%%writefile Fork.cpp\n",
        "#include <iostream>\n",
        "#include <unistd.h>\n",
        "#include <sys/wait.h>\n",
        "\n",
        "using namespace std;\n",
        "\n",
        "void print_process_message(char char_of_process)\n",
        "{\n",
        "    cout << \"Proceso \" << char_of_process << \" ( PID: \" << getpid() << \" | PPID: \" << getppid() << \" )\" << endl;\n",
        "}\n",
        "\n",
        "int main(int argc, char *argv[])\n",
        "{\n",
        "    pid_t pidA, pidB, pidC, pidD, pidE, pidF, pidG;\n",
        "    pidA = getpid();\n",
        "    print_process_message('A');\n",
        "    pidB = fork();\n",
        "    if (pidB == 0)\n",
        "    {\n",
        "        pidB = getpid();\n",
        "        print_process_message('B');\n",
        "        pidE = fork();\n",
        "        if (pidE == 0)\n",
        "        {\n",
        "            pidE = getpid();\n",
        "            print_process_message('E');\n",
        "            sleep(30);\n",
        "            exit(0);\n",
        "        }\n",
        "        pidF = fork();\n",
        "        if (pidF == 0)\n",
        "        {\n",
        "            pidF = getpid();\n",
        "            print_process_message('F');\n",
        "            sleep(30);\n",
        "            exit(0);\n",
        "        }\n",
        "        sleep(30);\n",
        "        wait(NULL);\n",
        "        wait(NULL);\n",
        "        exit(0);\n",
        "    }\n",
        "    pidC = fork();\n",
        "    if (pidC == 0)\n",
        "    {\n",
        "        pidC = getpid();\n",
        "        print_process_message('C');\n",
        "        sleep(30);\n",
        "        exit(0);\n",
        "    }\n",
        "    pidD = fork();\n",
        "    if (pidD == 0)\n",
        "    {\n",
        "        pidD = getpid();\n",
        "        print_process_message('D');\n",
        "        pidG = fork();\n",
        "        if (pidG == 0)\n",
        "        {\n",
        "            pidG = getpid();\n",
        "            print_process_message('G');\n",
        "            sleep(30);\n",
        "            exit(0);\n",
        "        }\n",
        "        sleep(30);\n",
        "        wait(NULL);\n",
        "        exit(0);\n",
        "    }\n",
        "    sleep(30);\n",
        "    wait(NULL);\n",
        "    wait(NULL);\n",
        "    wait(NULL);\n",
        "    return 0;\n",
        "}"
      ],
      "metadata": {
        "colab": {
          "base_uri": "https://localhost:8080/"
        },
        "id": "I0auENGZDzgJ",
        "outputId": "c0420a0c-86ed-4330-9571-5506010a528b"
      },
      "execution_count": 82,
      "outputs": [
        {
          "output_type": "stream",
          "name": "stdout",
          "text": [
            "Overwriting Fork.cpp\n"
          ]
        }
      ]
    },
    {
      "cell_type": "markdown",
      "source": [
        "Verificamos que existe el archivo Fork.cpp"
      ],
      "metadata": {
        "id": "g8clJkkKnM7c"
      }
    },
    {
      "cell_type": "code",
      "execution_count": 76,
      "metadata": {
        "id": "yME6XO2F7N5m",
        "colab": {
          "base_uri": "https://localhost:8080/"
        },
        "outputId": "64803970-eb7a-48d5-d216-feb5a0215387"
      },
      "outputs": [
        {
          "output_type": "stream",
          "name": "stdout",
          "text": [
            "total 48\n",
            "-rwxr-xr-x 1 root root 17744 Apr 12 12:56 Fork.bin\n",
            "-rw-r--r-- 1 root root  1508 Apr 12 13:20 Fork.cpp\n",
            "-rwx------ 1 root root  1401 Apr 12 13:11 main.py\n",
            "-rw-r--r-- 1 root root   885 Apr 12 13:15 ProcessTree.java\n",
            "-rw-r--r-- 1 root root   249 Apr 12 12:57 salidaC\n",
            "-rw-r--r-- 1 root root   283 Apr 12 13:19 salidaJava\n",
            "-rw-r--r-- 1 root root   318 Apr 12 13:11 salidaPython\n",
            "drwxr-xr-x 1 root root  4096 Apr 10 13:31 sample_data\n"
          ]
        }
      ],
      "source": [
        "!ls -l"
      ]
    },
    {
      "cell_type": "markdown",
      "source": [
        "Compilamos el archivo Fork.cpp y generamos el binario."
      ],
      "metadata": {
        "id": "bAT7SpH3nSBX"
      }
    },
    {
      "cell_type": "code",
      "source": [
        "%%shell\n",
        "g++ Fork.cpp -o Fork.bin"
      ],
      "metadata": {
        "colab": {
          "base_uri": "https://localhost:8080/"
        },
        "id": "Rj8iHoMsN4Sj",
        "outputId": "cfdd1a47-c7c5-4fe9-a134-7544c8513a56"
      },
      "execution_count": 77,
      "outputs": [
        {
          "output_type": "execute_result",
          "data": {
            "text/plain": []
          },
          "metadata": {},
          "execution_count": 77
        }
      ]
    },
    {
      "cell_type": "markdown",
      "source": [
        "Ponemos en ejecucion el programa obtenido, y mostramos la salida del mismo en el archivo \"salidaC\""
      ],
      "metadata": {
        "id": "Vz6ORhnWnXne"
      }
    },
    {
      "cell_type": "code",
      "source": [
        "%%shell\n",
        "nohup ./Fork.bin 1> salidaC 2> /dev/null & "
      ],
      "metadata": {
        "colab": {
          "base_uri": "https://localhost:8080/"
        },
        "id": "p1mizLI_G0jJ",
        "outputId": "7ae7d201-6d93-4496-d7b2-d38cf33f77b0"
      },
      "execution_count": 78,
      "outputs": [
        {
          "output_type": "execute_result",
          "data": {
            "text/plain": []
          },
          "metadata": {},
          "execution_count": 78
        }
      ]
    },
    {
      "cell_type": "markdown",
      "source": [
        "Visualizamos los procesos generados por este programa"
      ],
      "metadata": {
        "id": "141xTQ4dne0n"
      }
    },
    {
      "cell_type": "code",
      "source": [
        "%%shell\n",
        "ps -ef | grep Fork.bin"
      ],
      "metadata": {
        "colab": {
          "base_uri": "https://localhost:8080/"
        },
        "id": "3LZUdFJ3NcP-",
        "outputId": "b179dc8e-30b6-4fe2-9777-4fc293f9aed8"
      },
      "execution_count": 79,
      "outputs": [
        {
          "output_type": "stream",
          "name": "stdout",
          "text": [
            "root       14688       1  0 13:21 ?        00:00:00 ./Fork.bin\n",
            "root       14689   14688  0 13:21 ?        00:00:00 ./Fork.bin\n",
            "root       14690   14688  0 13:21 ?        00:00:00 ./Fork.bin\n",
            "root       14691   14688  0 13:21 ?        00:00:00 ./Fork.bin\n",
            "root       14692   14689  0 13:21 ?        00:00:00 ./Fork.bin\n",
            "root       14693   14689  0 13:21 ?        00:00:00 ./Fork.bin\n",
            "root       14694   14691  0 13:21 ?        00:00:00 ./Fork.bin\n",
            "root       14711     145  0 13:21 ?        00:00:00 /bin/bash -c ps -ef | grep Fork.bin \n",
            "root       14713   14711  0 13:21 ?        00:00:00 grep Fork.bin\n"
          ]
        },
        {
          "output_type": "execute_result",
          "data": {
            "text/plain": []
          },
          "metadata": {},
          "execution_count": 79
        }
      ]
    },
    {
      "cell_type": "markdown",
      "source": [
        "Ahora visualizamos el arbol de procesos, ejecutando el siguiente comando:\n",
        "***pstree -pc PID***\n",
        "\n",
        "**PID**: PID del proceso A (Lo pueden encontrar dentro del archivo \"salidaC\")"
      ],
      "metadata": {
        "id": "f4JBJBjemcQM"
      }
    },
    {
      "cell_type": "code",
      "source": [
        "%%shell\n",
        "pstree -pc 14688"
      ],
      "metadata": {
        "colab": {
          "base_uri": "https://localhost:8080/"
        },
        "id": "J6R9aeKuNlfA",
        "outputId": "853e1042-b50f-48f3-b9c2-0ffa7198348a"
      },
      "execution_count": 80,
      "outputs": [
        {
          "output_type": "stream",
          "name": "stdout",
          "text": [
            "Fork.bin(14688)─┬─Fork.bin(14689)─┬─Fork.bin(14692)\n",
            "                │                 └─Fork.bin(14693)\n",
            "                ├─Fork.bin(14690)\n",
            "                └─Fork.bin(14691)───Fork.bin(14694)\n"
          ]
        },
        {
          "output_type": "execute_result",
          "data": {
            "text/plain": []
          },
          "metadata": {},
          "execution_count": 80
        }
      ]
    },
    {
      "cell_type": "markdown",
      "source": [
        "Visualizamos la salida de este programa"
      ],
      "metadata": {
        "id": "GdsKXResn-ln"
      }
    },
    {
      "cell_type": "code",
      "source": [
        "!cat salidaC"
      ],
      "metadata": {
        "colab": {
          "base_uri": "https://localhost:8080/"
        },
        "id": "mhQu53VCoBxn",
        "outputId": "f85c42bd-b9da-42f9-e2fc-10efe202c3e4"
      },
      "execution_count": 81,
      "outputs": [
        {
          "output_type": "stream",
          "name": "stdout",
          "text": [
            "Proceso A (PID: 14688 | PPID: 1 )\n",
            "Proceso B (PID: 14689 | PPID: 14688 )\n",
            "Proceso D (PID: 14691 | PPID: 14688 )\n",
            "Proceso F (PID: 14693 | PPID: 14689 )\n",
            "Proceso E (PID: 14692 | PPID: 14689 )\n",
            "Proceso C (PID: 14690 | PPID: 14688 )\n",
            "Proceso G (PID: 14694 | PPID: 14691 )\n"
          ]
        }
      ]
    },
    {
      "cell_type": "markdown",
      "source": [
        "\n",
        "# Java\n",
        "\n",
        "\n"
      ],
      "metadata": {
        "id": "R-aEwePQoNHq"
      }
    },
    {
      "cell_type": "markdown",
      "source": [
        "El programa recibe 2 argumentos, la cantidad de hijos que debe generar el proceso al ejecutarse, y el nivel de jerarquia que este tiene. Para cumplimentar el ejercicio tiene un corte cuando alcanzan el nivel 2."
      ],
      "metadata": {
        "id": "FuZgZjIkoYpm"
      }
    },
    {
      "cell_type": "code",
      "source": [
        "%%writefile ProcessTree.java\n",
        "package processTree;\n",
        "\n",
        "import java.io.IOException;\n",
        "\n",
        "public class ProcessTree {\n",
        "\t\n",
        "\tpublic static void main(String[] args) throws IOException, InterruptedException {\n",
        "\t\t\n",
        "\t\tProcessHandle process = ProcessHandle.current();\n",
        "\t\tlong pid = process.pid();\n",
        "\t\tlong ppid = process.parent().get().pid();\n",
        "\t\tSystem.out.println(\"Soy el proceso: \"+pid+\", Mi papa es: \"+ppid);\n",
        "\t\t\n",
        "\t\tint level = Integer.parseInt(args[1]);\n",
        "\t\tif(level==2) {\n",
        "\t\t\tThread.sleep(10000);\n",
        "\t\t\treturn;\n",
        "\t\t}\t\n",
        "\t\t\n",
        "\t\tint childrenNum = Integer.parseInt(args[0]);\n",
        "\t\t\n",
        "\t\tProcess childs[] = new Process[childrenNum];\n",
        "\t\t\n",
        "\t\tfor (int i = 1; i <= childrenNum; i++) {\n",
        "\t\t\tProcessBuilder pb = new ProcessBuilder(\"java\",\"ProcessTree.java\",String.valueOf(childrenNum-i),String.valueOf(level+1));\n",
        "\t\t\tpb.inheritIO();\n",
        "\t\t\tchilds[i-1] = pb.start();\n",
        "\t\t}\n",
        "\t\tThread.sleep(10000);\n",
        "\t\tfor (int i = 0; i < childs.length; i++) {\n",
        "\t\t\tchilds[i].waitFor();\n",
        "\t\t}\n",
        "\t\t\n",
        "\t}\n",
        "\t\n",
        "}"
      ],
      "metadata": {
        "colab": {
          "base_uri": "https://localhost:8080/"
        },
        "id": "FFB9QmA1oiSP",
        "outputId": "327198c5-f6a5-4771-b0e4-b3e54ec81756"
      },
      "execution_count": 55,
      "outputs": [
        {
          "output_type": "stream",
          "name": "stdout",
          "text": [
            "Writing ProcessTree.java\n"
          ]
        }
      ]
    },
    {
      "cell_type": "markdown",
      "source": [
        "Ponemos en ejecucion el programa obtenido, y mostramos la salida del mismo en el archivo \"salidaJava\""
      ],
      "metadata": {
        "id": "ryYexSdgoroC"
      }
    },
    {
      "cell_type": "code",
      "source": [
        "!nohup java ProcessTree.java 3 0 1>salidaJava 2>/dev/null &"
      ],
      "metadata": {
        "id": "6FUD3l8MowY-"
      },
      "execution_count": 70,
      "outputs": []
    },
    {
      "cell_type": "markdown",
      "source": [
        "Visualizamos los procesos que produce este programa."
      ],
      "metadata": {
        "id": "jauj0KP6nSTm"
      }
    },
    {
      "cell_type": "code",
      "source": [
        "!ps -ef | grep ProcessTree.java"
      ],
      "metadata": {
        "colab": {
          "base_uri": "https://localhost:8080/"
        },
        "id": "KWDveMEbnVBB",
        "outputId": "02dc2e98-c23d-46b3-a9e3-cef48bf51dc5"
      },
      "execution_count": 71,
      "outputs": [
        {
          "output_type": "stream",
          "name": "stdout",
          "text": [
            "root       14067       1 61 13:19 ?        00:00:01 java ProcessTree.java 3 0\n",
            "root       14090   14067 52 13:19 ?        00:00:01 java ProcessTree.java 2 1\n",
            "root       14094   14067 53 13:19 ?        00:00:01 java ProcessTree.java 1 1\n",
            "root       14098   14067 40 13:19 ?        00:00:00 java ProcessTree.java 0 1\n",
            "root       14148     145  0 13:19 ?        00:00:00 /bin/bash -c ps -ef | grep ProcessTree.java\n",
            "root       14154   14148  0 13:19 ?        00:00:00 grep ProcessTree.java\n"
          ]
        }
      ]
    },
    {
      "cell_type": "markdown",
      "source": [
        "Vemos el arbol de procesos que genero este programa.\n"
      ],
      "metadata": {
        "id": "NeZcnFgWo4_q"
      }
    },
    {
      "cell_type": "code",
      "source": [
        "!pstree -pT 14067"
      ],
      "metadata": {
        "id": "oI4zIYixo5SL",
        "colab": {
          "base_uri": "https://localhost:8080/"
        },
        "outputId": "e8bdfbc1-aad1-48ee-f869-e428f4bb357c"
      },
      "execution_count": 72,
      "outputs": [
        {
          "output_type": "stream",
          "name": "stdout",
          "text": [
            "java(14067)─┬─java(14090)─┬─java(14164)\n",
            "            │             └─java(14166)\n",
            "            ├─java(14094)───java(14191)\n",
            "            └─java(14098)\n"
          ]
        }
      ]
    },
    {
      "cell_type": "markdown",
      "source": [
        "Mostramos la salida del programa"
      ],
      "metadata": {
        "id": "zb60VLCVo6QS"
      }
    },
    {
      "cell_type": "code",
      "source": [
        "!cat salidaJava"
      ],
      "metadata": {
        "colab": {
          "base_uri": "https://localhost:8080/"
        },
        "id": "97uwuGTdo2TJ",
        "outputId": "6d615a2a-4788-40a9-b1a2-7f686a1f63bd"
      },
      "execution_count": 73,
      "outputs": [
        {
          "output_type": "stream",
          "name": "stdout",
          "text": [
            "Soy el proceso: 14067, Mi papa es: 1\n",
            "Soy el proceso: 14090, Mi papa es: 14067\n",
            "Soy el proceso: 14094, Mi papa es: 14067\n",
            "Soy el proceso: 14098, Mi papa es: 14067\n",
            "Soy el proceso: 14164, Mi papa es: 14090\n",
            "Soy el proceso: 14166, Mi papa es: 14090\n",
            "Soy el proceso: 14191, Mi papa es: 14094\n"
          ]
        }
      ]
    },
    {
      "cell_type": "markdown",
      "source": [
        "\n",
        "# Python\n",
        "\n"
      ],
      "metadata": {
        "id": "iiq9Po-1qVPf"
      }
    },
    {
      "cell_type": "markdown",
      "source": [
        "El programa crea un árbol de procesos, el proceso A crea tres procesos hijos, llamados B, C y D, el proceso hijo B crea otros dos procesos hijos, E y F, y el proceso D crea un último proceso hijo llamado G. Se le agregó tiempos de retraso para poder monitorear con el comando ps la correcta creación de los procesos."
      ],
      "metadata": {
        "id": "2WcNkKMlAb5b"
      }
    },
    {
      "cell_type": "code",
      "source": [
        "%%writefile main.py\n",
        "import os\n",
        "import sys\n",
        "import time\n",
        "\n",
        "def print_process_message(char_of_process):\n",
        "    print(\"Soy el proceso \" + char_of_process + \" ( PID: \" + str(os.getpid()) + \" | PPID: \" + str(os.getppid()) + \" )\")\n",
        "    sys.stdout.flush()\n",
        "\t\n",
        "def parent():\n",
        "\n",
        "    print_process_message('A')\n",
        "    pidB = os.fork()\n",
        "\n",
        "    if pidB == 0:\n",
        "        pidB = os.getpid()\n",
        "        print_process_message('B')\n",
        "        pidE = os.fork()\n",
        "        if pidE == 0:\n",
        "            pidE = os.getpid()\n",
        "            print_process_message('E')\n",
        "            time.sleep(30)\n",
        "            \n",
        "            os._exit(0)\n",
        "        \n",
        "        pidF = os.fork()\n",
        "        if pidF == 0:\n",
        "            pidF = os.getpid()\n",
        "            print_process_message('F')\n",
        "            time.sleep(30)\n",
        "            os._exit(0)\n",
        "        \n",
        "        time.sleep(30)\n",
        "        os.wait()\n",
        "        os.wait()\n",
        "        os._exit(0)\n",
        "    \n",
        "    pidC = os.fork()\n",
        "    if pidC == 0:\n",
        "        pidC = os.getpid()\n",
        "        print_process_message('C')\n",
        "        time.sleep(30)\n",
        "        os._exit(0)\n",
        "    \n",
        "    pidD = os.fork()\n",
        "\n",
        "    if pidD == 0:\n",
        "        pidD = os.getpid()\n",
        "        print_process_message('D')\n",
        "        pidG = os.fork()\n",
        "        if pidG == 0:\n",
        "            pidG = os.getpid()\n",
        "            print_process_message('G')\n",
        "            time.sleep(30)\n",
        "            os._exit(0)\n",
        "        \n",
        "        time.sleep(30)\n",
        "        os.wait()\n",
        "        os._exit(0)\n",
        "    \n",
        "    os.wait()\n",
        "    os.wait()\n",
        "    os.wait()\n",
        "    time.sleep(30)\n",
        "\n",
        "    return 0\n",
        "\n",
        "parent()"
      ],
      "metadata": {
        "colab": {
          "base_uri": "https://localhost:8080/"
        },
        "id": "xjYC2J6QqZG5",
        "outputId": "1eb5db5f-cad2-4dbc-c545-ab9ad12d3a48"
      },
      "execution_count": 50,
      "outputs": [
        {
          "output_type": "stream",
          "name": "stdout",
          "text": [
            "Overwriting main.py\n"
          ]
        }
      ]
    },
    {
      "cell_type": "markdown",
      "source": [
        "Cambiamos los permisos para ejecutar."
      ],
      "metadata": {
        "id": "N_JHvAjgfrHx"
      }
    },
    {
      "cell_type": "code",
      "source": [
        "!chmod 700 ./main.py"
      ],
      "metadata": {
        "id": "lL-frekWftmd"
      },
      "execution_count": null,
      "outputs": []
    },
    {
      "cell_type": "markdown",
      "source": [
        "Ponemos en ejecucion el programa obtenido, y mostramos la salida del mismo en el archivo \"salidaPython\""
      ],
      "metadata": {
        "id": "TTOZNwA5fx1n"
      }
    },
    {
      "cell_type": "code",
      "source": [
        "!nohup python main.py 1>salidaPython 2>/dev/null &"
      ],
      "metadata": {
        "id": "1DRqd3N4f-M4"
      },
      "execution_count": 51,
      "outputs": []
    },
    {
      "cell_type": "markdown",
      "source": [
        "Visualizamos los procesos en ejecucion del programa \"main.py\"\n",
        "\n"
      ],
      "metadata": {
        "id": "uVb3xuG1gRbA"
      }
    },
    {
      "cell_type": "code",
      "source": [
        "!ps -ef | grep main.py"
      ],
      "metadata": {
        "colab": {
          "base_uri": "https://localhost:8080/"
        },
        "id": "18nAxNZMgR0t",
        "outputId": "894136b4-1634-41f8-d158-37f80f276e5d"
      },
      "execution_count": 52,
      "outputs": [
        {
          "output_type": "stream",
          "name": "stdout",
          "text": [
            "root       11583       1  1 13:11 ?        00:00:00 python3 main.py\n",
            "root       11585   11583  0 13:11 ?        00:00:00 python3 main.py\n",
            "root       11586   11583  0 13:11 ?        00:00:00 python3 main.py\n",
            "root       11587   11583  0 13:11 ?        00:00:00 python3 main.py\n",
            "root       11588   11585  0 13:11 ?        00:00:00 python3 main.py\n",
            "root       11589   11585  0 13:11 ?        00:00:00 python3 main.py\n",
            "root       11590   11587  0 13:11 ?        00:00:00 python3 main.py\n",
            "root       11599     145  0 13:11 ?        00:00:00 /bin/bash -c ps -ef | grep main.py\n",
            "root       11601   11599  0 13:11 ?        00:00:00 /bin/bash -c ps -ef | grep main.py\n"
          ]
        }
      ]
    },
    {
      "cell_type": "markdown",
      "source": [
        "Visualizamos el arbol de procesos que genera este programa."
      ],
      "metadata": {
        "id": "x4GlmzAEBBAi"
      }
    },
    {
      "cell_type": "code",
      "source": [
        "!pstree -pc 11583"
      ],
      "metadata": {
        "id": "nK_JbQE2AhWT",
        "colab": {
          "base_uri": "https://localhost:8080/"
        },
        "outputId": "1ae369b0-081a-40a4-8579-4c8479ddd48e"
      },
      "execution_count": 53,
      "outputs": [
        {
          "output_type": "stream",
          "name": "stdout",
          "text": [
            "python3(11583)─┬─python3(11585)─┬─python3(11588)\n",
            "               │                └─python3(11589)\n",
            "               ├─python3(11586)\n",
            "               └─python3(11587)───python3(11590)\n"
          ]
        }
      ]
    },
    {
      "cell_type": "markdown",
      "source": [
        "Visualizamos la salida por consola"
      ],
      "metadata": {
        "id": "I-Kkcgd1h5DJ"
      }
    },
    {
      "cell_type": "code",
      "source": [
        "!cat salidaPython"
      ],
      "metadata": {
        "colab": {
          "base_uri": "https://localhost:8080/"
        },
        "id": "9DF1eWFYhjRv",
        "outputId": "e6fd7ee6-0ec4-4976-f68d-cb431009f39c"
      },
      "execution_count": 54,
      "outputs": [
        {
          "output_type": "stream",
          "name": "stdout",
          "text": [
            "Soy el proceso A ( PID: 11583 | PPID: 1 )\n",
            "Soy el proceso B ( PID: 11585 | PPID: 11583 )\n",
            "Soy el proceso C ( PID: 11586 | PPID: 11583 )\n",
            "Soy el proceso D ( PID: 11587 | PPID: 11583 )\n",
            "Soy el proceso E ( PID: 11588 | PPID: 11585 )\n",
            "Soy el proceso F ( PID: 11589 | PPID: 11585 )\n",
            "Soy el proceso G ( PID: 11590 | PPID: 11587 )\n"
          ]
        }
      ]
    }
  ]
}