{
  "cells": [
    {
      "cell_type": "markdown",
      "metadata": {
        "id": "M2tEiuhSDSyp"
      },
      "source": [
        "# C++\n",
        "\n"
      ]
    },
    {
      "cell_type": "markdown",
      "metadata": {
        "id": "c2Gf7bSyDa3j"
      },
      "source": [
        "Se utiliza el patron de diseño Composite para representar el arbol de procesos."
      ]
    },
    {
      "cell_type": "markdown",
      "metadata": {
        "id": "NdVu-CjTns2_"
      },
      "source": []
    },
    {
      "cell_type": "code",
      "execution_count": null,
      "metadata": {
        "colab": {
          "base_uri": "https://localhost:8080/"
        },
        "id": "I0auENGZDzgJ",
        "outputId": "72e3f546-66a3-43f8-f75e-72460ef81f9f"
      },
      "outputs": [
        {
          "name": "stdout",
          "output_type": "stream",
          "text": [
            "Writing process.cpp\n"
          ]
        }
      ],
      "source": [
        "%%writefile process.cpp\n",
        "#include <sys/wait.h>\n",
        "#include <unistd.h>\n",
        "#include <iostream>\n",
        "#include <list>\n",
        "\n",
        "#define TIME_SLEEP 30\n",
        "#define PROCESS_A \"A\"\n",
        "#define PROCESS_B \"B\"\n",
        "#define PROCESS_C \"C\"\n",
        "#define PROCESS_D \"D\"\n",
        "#define PROCESS_E \"E\"\n",
        "#define PROCESS_F \"F\"\n",
        "#define PROCESS_G \"G\"\n",
        "\n",
        "class ProcessBase \n",
        "{\n",
        " public:\n",
        "  ProcessBase(){};\n",
        "  virtual void Execute() = 0;\n",
        "  void PrintMessage(std::string name) \n",
        "  {\n",
        "    std::cout << \"Proceso \" + name + \" ( PID: \" + std::to_string(getpid()) +\n",
        "                     \" | PPID: \" + std::to_string(getppid()) + \" )\"\n",
        "              << std::endl;\n",
        "  }\n",
        "  void PrintErrorMessage(std::string name)\n",
        "  {\n",
        "    std:: cout << \"Error al crear el proceso \" + name + \".\" << std::endl;\n",
        "  }\n",
        "};\n",
        "\n",
        "class ProcessLead : public ProcessBase \n",
        "{\n",
        " private:\n",
        "  std::string name_;\n",
        "\n",
        " public:\n",
        "  ProcessLead(std::string name) { this->name_ = name; }\n",
        "  void Execute() override \n",
        "  {\n",
        "    this->PrintMessage(this->name_);\n",
        "    sleep(TIME_SLEEP);\n",
        "    exit(EXIT_SUCCESS);\n",
        "  }\n",
        "};\n",
        "\n",
        "class ProcessParent : public ProcessBase \n",
        "{\n",
        " private:\n",
        "  std::string name_;\n",
        "  std::list<ProcessBase*> childs_;\n",
        "\n",
        " public:\n",
        "  ProcessParent(std::string name, std::list<ProcessBase*> childs) \n",
        "  {\n",
        "    this->name_ = name;\n",
        "    this->childs_ = childs;\n",
        "  }\n",
        "\n",
        "  void Execute() \n",
        "  {\n",
        "    this->PrintMessage(this->name_);\n",
        "    int pid;\n",
        "    for (ProcessBase* child : this->childs_) \n",
        "    {\n",
        "      pid = fork();\n",
        "      if (pid == 0) \n",
        "      {\n",
        "        child->Execute();\n",
        "      }\n",
        "      if (pid < 0)\n",
        "      {\n",
        "        child->PrintErrorMessage(this->name_);\n",
        "      } \n",
        "    }\n",
        "    sleep(TIME_SLEEP);\n",
        "    for (ProcessBase* child : this->childs_) \n",
        "    {\n",
        "      wait(NULL);\n",
        "    }\n",
        "    exit(EXIT_SUCCESS);\n",
        "  }\n",
        "};\n",
        "\n",
        "int main() \n",
        "{\n",
        "  ProcessBase* pid_g = new ProcessLead(PROCESS_G);\n",
        "  ProcessBase* pid_f = new ProcessLead(PROCESS_F);\n",
        "  ProcessBase* pid_e = new ProcessLead(PROCESS_E);\n",
        "  ProcessBase* pid_c = new ProcessLead(PROCESS_C);\n",
        "\n",
        "  std::list<ProcessBase*> childs_b = {pid_e, pid_f};\n",
        "  ProcessBase* pid_b = new ProcessParent(PROCESS_B, childs_b);\n",
        "\n",
        "  std::list<ProcessBase*> childs_d = {pid_g};\n",
        "  ProcessBase* pid_d = new ProcessParent(PROCESS_D, childs_d);\n",
        "\n",
        "  std::list<ProcessBase*> childs_a = {pid_b, pid_c, pid_d};\n",
        "  ProcessBase* pid_a = new ProcessParent(PROCESS_A, childs_a);\n",
        "\n",
        "  pid_a->Execute();\n",
        "\n",
        "  return EXIT_SUCCESS;\n",
        "}"
      ]
    },
    {
      "cell_type": "markdown",
      "metadata": {
        "id": "g8clJkkKnM7c"
      },
      "source": [
        "Verificamos que existe el archivo Fork.cpp"
      ]
    },
    {
      "cell_type": "code",
      "execution_count": null,
      "metadata": {
        "colab": {
          "base_uri": "https://localhost:8080/"
        },
        "id": "yME6XO2F7N5m",
        "outputId": "d8ad14c1-0229-4f34-d5fa-f74ff4c58589"
      },
      "outputs": [
        {
          "name": "stdout",
          "output_type": "stream",
          "text": [
            "total 8\n",
            "-rw-r--r-- 1 root root 2237 Apr 16 23:34 process.cpp\n",
            "drwxr-xr-x 1 root root 4096 Apr 13 13:30 sample_data\n"
          ]
        }
      ],
      "source": [
        "!ls -l"
      ]
    },
    {
      "cell_type": "markdown",
      "metadata": {
        "id": "bAT7SpH3nSBX"
      },
      "source": [
        "Compilamos el archivo Fork.cpp y generamos el binario."
      ]
    },
    {
      "cell_type": "code",
      "execution_count": null,
      "metadata": {
        "colab": {
          "base_uri": "https://localhost:8080/"
        },
        "id": "Rj8iHoMsN4Sj",
        "outputId": "2d63f00a-2c54-4181-b8ca-6f67d6a9846a"
      },
      "outputs": [
        {
          "data": {
            "text/plain": []
          },
          "execution_count": 4,
          "metadata": {},
          "output_type": "execute_result"
        }
      ],
      "source": [
        "%%shell\n",
        "g++ process.cpp -o process.bin"
      ]
    },
    {
      "cell_type": "markdown",
      "metadata": {
        "id": "Vz6ORhnWnXne"
      },
      "source": [
        "Ponemos en ejecucion el programa obtenido, y mostramos la salida del mismo en el archivo \"salidaC\""
      ]
    },
    {
      "cell_type": "code",
      "execution_count": null,
      "metadata": {
        "colab": {
          "base_uri": "https://localhost:8080/"
        },
        "id": "p1mizLI_G0jJ",
        "outputId": "4a9feb64-aa0a-49d1-bded-1182e992f7c1"
      },
      "outputs": [
        {
          "data": {
            "text/plain": []
          },
          "execution_count": 5,
          "metadata": {},
          "output_type": "execute_result"
        }
      ],
      "source": [
        "%%shell\n",
        "nohup ./process.bin 1> salidaC 2> /dev/null & "
      ]
    },
    {
      "cell_type": "markdown",
      "metadata": {
        "id": "141xTQ4dne0n"
      },
      "source": [
        "Visualizamos los procesos generados por este programa"
      ]
    },
    {
      "cell_type": "code",
      "execution_count": null,
      "metadata": {
        "colab": {
          "base_uri": "https://localhost:8080/"
        },
        "id": "3LZUdFJ3NcP-",
        "outputId": "6577e411-5e67-4af9-f83b-ec004fbcc7c0"
      },
      "outputs": [
        {
          "name": "stdout",
          "output_type": "stream",
          "text": [
            "root         355       1  0 23:34 ?        00:00:00 ./process.bin\n",
            "root         356     355  0 23:34 ?        00:00:00 ./process.bin\n",
            "root         357     355  0 23:34 ?        00:00:00 ./process.bin\n",
            "root         358     356  0 23:34 ?        00:00:00 ./process.bin\n",
            "root         359     355  0 23:34 ?        00:00:00 ./process.bin\n",
            "root         360     356  0 23:34 ?        00:00:00 ./process.bin\n",
            "root         361     359  0 23:34 ?        00:00:00 ./process.bin\n",
            "root         370     149  0 23:34 ?        00:00:00 /bin/bash -c ps -ef | grep process.bin \n",
            "root         372     370  0 23:34 ?        00:00:00 grep process.bin\n"
          ]
        },
        {
          "data": {
            "text/plain": []
          },
          "execution_count": 6,
          "metadata": {},
          "output_type": "execute_result"
        }
      ],
      "source": [
        "%%shell\n",
        "ps -ef | grep process.bin"
      ]
    },
    {
      "cell_type": "markdown",
      "metadata": {
        "id": "f4JBJBjemcQM"
      },
      "source": [
        "Ahora visualizamos el arbol de procesos, ejecutando el siguiente comando:\n",
        "***pstree -pc PID***\n",
        "\n",
        "**PID**: PID del proceso A (Lo pueden encontrar dentro del archivo \"salidaC\")"
      ]
    },
    {
      "cell_type": "code",
      "execution_count": null,
      "metadata": {
        "colab": {
          "base_uri": "https://localhost:8080/"
        },
        "id": "J6R9aeKuNlfA",
        "outputId": "f318f15c-86e2-40de-f0eb-d7d0f4a75a5c"
      },
      "outputs": [
        {
          "name": "stdout",
          "output_type": "stream",
          "text": [
            "process.bin(355)─┬─process.bin(356)─┬─process.bin(358)\n",
            "                 │                  └─process.bin(360)\n",
            "                 ├─process.bin(357)\n",
            "                 └─process.bin(359)───process.bin(361)\n"
          ]
        },
        {
          "data": {
            "text/plain": []
          },
          "execution_count": 7,
          "metadata": {},
          "output_type": "execute_result"
        }
      ],
      "source": [
        "%%shell\n",
        "pstree -pc 355"
      ]
    },
    {
      "cell_type": "markdown",
      "metadata": {
        "id": "GdsKXResn-ln"
      },
      "source": [
        "Visualizamos la salida de este programa"
      ]
    },
    {
      "cell_type": "code",
      "execution_count": null,
      "metadata": {
        "colab": {
          "base_uri": "https://localhost:8080/"
        },
        "id": "mhQu53VCoBxn",
        "outputId": "1ab0cad7-c1ac-40ed-9c25-9192c71ab155"
      },
      "outputs": [
        {
          "name": "stdout",
          "output_type": "stream",
          "text": [
            "Proceso A ( PID: 355 | PPID: 1 )\n",
            "Proceso B ( PID: 356 | PPID: 355 )\n",
            "Proceso D ( PID: 359 | PPID: 355 )\n",
            "Proceso G ( PID: 361 | PPID: 359 )\n",
            "Proceso E ( PID: 358 | PPID: 356 )\n",
            "Proceso F ( PID: 360 | PPID: 356 )\n",
            "Proceso C ( PID: 357 | PPID: 355 )\n"
          ]
        }
      ],
      "source": [
        "!cat salidaC"
      ]
    },
    {
      "cell_type": "markdown",
      "metadata": {
        "id": "R-aEwePQoNHq"
      },
      "source": [
        "\n",
        "# Java\n",
        "\n",
        "\n"
      ]
    },
    {
      "cell_type": "markdown",
      "metadata": {
        "id": "FuZgZjIkoYpm"
      },
      "source": [
        "El programa recibe 2 argumentos, la cantidad de hijos que debe generar el proceso al ejecutarse, y el nivel de jerarquia que este tiene. Para cumplimentar el ejercicio tiene un corte cuando alcanzan el nivel 2."
      ]
    },
    {
      "cell_type": "code",
      "execution_count": null,
      "metadata": {
        "colab": {
          "base_uri": "https://localhost:8080/"
        },
        "id": "FFB9QmA1oiSP",
        "outputId": "f8d2058f-7ce1-4d85-b474-81ded2c09136"
      },
      "outputs": [
        {
          "name": "stdout",
          "output_type": "stream",
          "text": [
            "Writing ProcessTree.java\n"
          ]
        }
      ],
      "source": [
        "%%writefile ProcessTree.java\n",
        "package processtree;\n",
        "\n",
        "import java.io.IOException;\n",
        "\n",
        "public class ProcessTree \n",
        "{\n",
        "  public static void main(String[] args) throws IOException, InterruptedException \n",
        "  {\n",
        "    ProcessHandle process = ProcessHandle.current();\n",
        "    long pid = process.pid();\n",
        "    long ppid = process.parent().get().pid();\n",
        "    System.out.println(\"Soy el proceso: \" + pid + \", Mi papa es: \" + ppid);\n",
        "\n",
        "    int level = Integer.parseInt(args[1]);\n",
        "    if (level == 2) \n",
        "\t{\n",
        "      Thread.sleep(10000);\n",
        "      return;\n",
        "    }\n",
        "\n",
        "    int childrenNum = Integer.parseInt(args[0]);\n",
        "\n",
        "    Process childs[] = new Process[childrenNum];\n",
        "\n",
        "    for (int i = 1; i <= childrenNum; i++) \n",
        "\t{\n",
        "      ProcessBuilder pb =\n",
        "          new ProcessBuilder(\n",
        "              \"java\", \"ProcessTree.java\", String.valueOf(childrenNum - i), String.valueOf(level + 1));\n",
        "      pb.inheritIO();\n",
        "      childs[i - 1] = pb.start();\n",
        "    }\n",
        "    Thread.sleep(10000);\n",
        "    for (int i = 0; i < childs.length; i++) \n",
        "\t{\n",
        "      childs[i].waitFor();\n",
        "    }\n",
        "  }\n",
        "}\n"
      ]
    },
    {
      "cell_type": "markdown",
      "metadata": {
        "id": "ryYexSdgoroC"
      },
      "source": [
        "Ponemos en ejecucion el programa obtenido, y mostramos la salida del mismo en el archivo \"salidaJava\""
      ]
    },
    {
      "cell_type": "code",
      "execution_count": null,
      "metadata": {
        "id": "6FUD3l8MowY-"
      },
      "outputs": [],
      "source": [
        "!nohup java ProcessTree.java 3 0 1>salidaJava 2>/dev/null &"
      ]
    },
    {
      "cell_type": "markdown",
      "metadata": {
        "id": "jauj0KP6nSTm"
      },
      "source": [
        "Visualizamos los procesos que produce este programa."
      ]
    },
    {
      "cell_type": "code",
      "execution_count": null,
      "metadata": {
        "colab": {
          "base_uri": "https://localhost:8080/"
        },
        "id": "KWDveMEbnVBB",
        "outputId": "b0ad9220-dd90-4284-f8ee-b75fbcfef807"
      },
      "outputs": [
        {
          "name": "stdout",
          "output_type": "stream",
          "text": [
            "root        1771       1 99 23:40 ?        00:00:02 java ProcessTree.java 3 0\n",
            "root        1799    1771 47 23:40 ?        00:00:00 java ProcessTree.java 2 1\n",
            "root        1810    1771  0 23:40 ?        00:00:00 java ProcessTree.java 1 1\n",
            "root        1815    1771  0 23:40 ?        00:00:00 java ProcessTree.java 0 1\n",
            "root        1857     149  0 23:40 ?        00:00:00 /bin/bash -c ps -ef | grep ProcessTree.java\n",
            "root        1859    1857  0 23:40 ?        00:00:00 grep ProcessTree.java\n"
          ]
        }
      ],
      "source": [
        "!ps -ef | grep ProcessTree.java"
      ]
    },
    {
      "cell_type": "markdown",
      "metadata": {
        "id": "NeZcnFgWo4_q"
      },
      "source": [
        "Vemos el arbol de procesos que genero este programa.\n"
      ]
    },
    {
      "cell_type": "code",
      "execution_count": null,
      "metadata": {
        "colab": {
          "base_uri": "https://localhost:8080/"
        },
        "id": "oI4zIYixo5SL",
        "outputId": "25cc16df-46d6-4f4f-bbe7-29a332700eb1"
      },
      "outputs": [
        {
          "name": "stdout",
          "output_type": "stream",
          "text": [
            "java(1771)─┬─java(1799)─┬─java(1882)\n",
            "           │            └─java(1888)\n",
            "           ├─java(1810)───java(1915)\n",
            "           └─java(1815)\n"
          ]
        }
      ],
      "source": [
        "!pstree -pT 1771"
      ]
    },
    {
      "cell_type": "markdown",
      "metadata": {
        "id": "zb60VLCVo6QS"
      },
      "source": [
        "Mostramos la salida del programa"
      ]
    },
    {
      "cell_type": "code",
      "execution_count": null,
      "metadata": {
        "colab": {
          "base_uri": "https://localhost:8080/"
        },
        "id": "97uwuGTdo2TJ",
        "outputId": "17393b01-9d2f-4e5d-b21b-6d0f7be47f31"
      },
      "outputs": [
        {
          "name": "stdout",
          "output_type": "stream",
          "text": [
            "Soy el proceso: 1771, Mi papa es: 1\n",
            "Soy el proceso: 1799, Mi papa es: 1771\n",
            "Soy el proceso: 1815, Mi papa es: 1771\n",
            "Soy el proceso: 1810, Mi papa es: 1771\n",
            "Soy el proceso: 1888, Mi papa es: 1799\n",
            "Soy el proceso: 1882, Mi papa es: 1799\n",
            "Soy el proceso: 1915, Mi papa es: 1810\n"
          ]
        }
      ],
      "source": [
        "!cat salidaJava"
      ]
    },
    {
      "attachments": {},
      "cell_type": "markdown",
      "metadata": {
        "id": "iiq9Po-1qVPf"
      },
      "source": [
        "\n",
        "# Python"
      ]
    },
    {
      "cell_type": "markdown",
      "metadata": {
        "id": "2WcNkKMlAb5b"
      },
      "source": [
        "Se utiliza el patron de diseño Composite para representar el arbol de procesos."
      ]
    },
    {
      "cell_type": "code",
      "execution_count": null,
      "metadata": {
        "colab": {
          "base_uri": "https://localhost:8080/"
        },
        "id": "xjYC2J6QqZG5",
        "outputId": "6d72694e-390f-43d3-dd65-51475b039390"
      },
      "outputs": [
        {
          "name": "stdout",
          "output_type": "stream",
          "text": [
            "Overwriting process.py\n"
          ]
        }
      ],
      "source": [
        "%%writefile process.py\n",
        "import os\n",
        "import time\n",
        "from abc import ABC, abstractmethod\n",
        "from typing import List\n",
        "\n",
        "\n",
        "PROCESO_A = \"A\"\n",
        "PROCESO_B = \"B\"\n",
        "PROCESO_C = \"C\"\n",
        "PROCESO_D = \"D\"\n",
        "PROCESO_E = \"E\"\n",
        "PROCESO_F = \"F\"\n",
        "PROCESO_G = \"G\"\n",
        "\n",
        "\n",
        "class ProcessBase(ABC):\n",
        "    def __init__(self, name):\n",
        "        super().__init__()\n",
        "        self._name = name\n",
        "\n",
        "    @abstractmethod\n",
        "    def execute(self):\n",
        "        pass\n",
        "\n",
        "    def print_message(self):\n",
        "        print(\"Proceso \" + self._name + \" (PID: \" + str(os.getpid()) +\n",
        "              \" | PPID: \" + str(os.getppid()) + \" )\")\n",
        "\n",
        "    def print_error_message(self):\n",
        "        print(\"Error al crear el proceso \" + self._name)\n",
        "\n",
        "\n",
        "class ProcessLeaf(ProcessBase):\n",
        "    def __init__(self, name):\n",
        "        super().__init__(name)\n",
        "\n",
        "    def execute(self):\n",
        "        self.print_message()\n",
        "        time.sleep(30)\n",
        "        os._exit(1)\n",
        "\n",
        "\n",
        "class ProcessParent(ProcessBase):\n",
        "    def __init__(self, name, childs):\n",
        "        super().__init__(name)\n",
        "        self._childs: List[ProcessBase] = childs\n",
        "\n",
        "    def execute(self):\n",
        "        self.print_message()\n",
        "        for child in self._childs:\n",
        "            pid = os.fork()\n",
        "            if pid == 0:\n",
        "                child.execute()\n",
        "            if pid < 0:\n",
        "                self.print_error_message()\n",
        "\n",
        "        time.sleep(30)\n",
        "        for _ in self._childs:\n",
        "            os.wait()\n",
        "        os._exit(1)\n",
        "\n",
        "\n",
        "def main():\n",
        "    process_g = ProcessLeaf(PROCESO_G)\n",
        "    process_f = ProcessLeaf(PROCESO_F)\n",
        "    process_e = ProcessLeaf(PROCESO_E)\n",
        "    process_c = ProcessLeaf(PROCESO_C)\n",
        "\n",
        "    process_b = ProcessParent(PROCESO_B, [process_e, process_f])\n",
        "    process_d = ProcessParent(PROCESO_D, [process_g])\n",
        "    process_a = ProcessParent(PROCESO_A, [process_b, process_c, process_d])\n",
        "\n",
        "    process_a.execute()\n",
        "\n",
        "\n",
        "if __name__ == \"__main__\":\n",
        "    main()\n"
      ]
    },
    {
      "cell_type": "markdown",
      "metadata": {
        "id": "TTOZNwA5fx1n"
      },
      "source": [
        "Ponemos en ejecucion el programa obtenido, y mostramos la salida del mismo en el archivo \"salidaPython\""
      ]
    },
    {
      "cell_type": "code",
      "execution_count": 52,
      "metadata": {
        "id": "1DRqd3N4f-M4"
      },
      "outputs": [],
      "source": [
        "!nohup python process.py 1>salidaPython 2>/dev/null &"
      ]
    },
    {
      "cell_type": "markdown",
      "metadata": {
        "id": "uVb3xuG1gRbA"
      },
      "source": [
        "Visualizamos los procesos en ejecucion del programa \"main.py\"\n",
        "\n"
      ]
    },
    {
      "cell_type": "code",
      "execution_count": 53,
      "metadata": {
        "colab": {
          "base_uri": "https://localhost:8080/"
        },
        "id": "18nAxNZMgR0t",
        "outputId": "aa015850-0559-4587-c493-8f0219e8b1f7"
      },
      "outputs": [
        {
          "name": "stdout",
          "output_type": "stream",
          "text": [
            "root       17100       1  1 00:41 ?        00:00:00 python3 process.py\n",
            "root       17102   17100  0 00:41 ?        00:00:00 python3 process.py\n",
            "root       17103   17100  0 00:41 ?        00:00:00 python3 process.py\n",
            "root       17104   17100  0 00:41 ?        00:00:00 python3 process.py\n",
            "root       17105   17102  0 00:41 ?        00:00:00 python3 process.py\n",
            "root       17106   17102  0 00:41 ?        00:00:00 python3 process.py\n",
            "root       17107   17104  0 00:41 ?        00:00:00 python3 process.py\n",
            "root       17116     149  0 00:41 ?        00:00:00 /bin/bash -c ps -ef | grep process.py\n",
            "root       17118   17116  0 00:41 ?        00:00:00 grep process.py\n"
          ]
        }
      ],
      "source": [
        "!ps -ef | grep process.py"
      ]
    },
    {
      "cell_type": "markdown",
      "metadata": {
        "id": "x4GlmzAEBBAi"
      },
      "source": [
        "Visualizamos el arbol de procesos que genera este programa."
      ]
    },
    {
      "cell_type": "code",
      "execution_count": 55,
      "metadata": {
        "colab": {
          "base_uri": "https://localhost:8080/"
        },
        "id": "nK_JbQE2AhWT",
        "outputId": "9617f0c2-9d46-4788-9fe6-687967cd1853"
      },
      "outputs": [
        {
          "name": "stdout",
          "output_type": "stream",
          "text": [
            "python3(17100)─┬─python3(17102)─┬─python3(17105)\n",
            "               │                └─python3(17106)\n",
            "               ├─python3(17103)\n",
            "               └─python3(17104)───python3(17107)\n"
          ]
        }
      ],
      "source": [
        "!pstree -pc 17100"
      ]
    },
    {
      "cell_type": "markdown",
      "metadata": {
        "id": "I-Kkcgd1h5DJ"
      },
      "source": [
        "Visualizamos la salida por consola"
      ]
    },
    {
      "cell_type": "code",
      "execution_count": 56,
      "metadata": {
        "id": "UyY3GiC0qU1v"
      },
      "outputs": [],
      "source": [
        "!cat salidaPython"
      ]
    },
    {
      "cell_type": "code",
      "execution_count": 50,
      "metadata": {
        "colab": {
          "base_uri": "https://localhost:8080/"
        },
        "id": "9DF1eWFYhjRv",
        "outputId": "1cc35a67-e3c4-4277-e254-0bea09ae89f3"
      },
      "outputs": [
        {
          "name": "stdout",
          "output_type": "stream",
          "text": [
            "Proceso A (PID: 16907 | PPID: 149 )\n",
            "Proceso B (PID: 16908 | PPID: 16907 )\n",
            "Proceso C (PID: 16909 | PPID: 16907 )\n",
            "Proceso F (PID: 16912 | PPID: 16908 )\n",
            "Proceso E (PID: 16911 | PPID: 16908 )\n",
            "Proceso D (PID: 16910 | PPID: 16907 )\n",
            "Proceso G (PID: 16913 | PPID: 16910 )\n"
          ]
        }
      ],
      "source": [
        "!python3 process.py"
      ]
    }
  ],
  "metadata": {
    "colab": {
      "provenance": []
    },
    "kernelspec": {
      "display_name": "Python 3",
      "name": "python3"
    },
    "language_info": {
      "name": "python"
    }
  },
  "nbformat": 4,
  "nbformat_minor": 0
}
