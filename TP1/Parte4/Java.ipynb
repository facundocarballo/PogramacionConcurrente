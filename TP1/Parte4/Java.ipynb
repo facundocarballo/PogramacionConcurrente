{
  "nbformat": 4,
  "nbformat_minor": 0,
  "metadata": {
    "colab": {
      "provenance": [],
      "include_colab_link": true
    },
    "kernelspec": {
      "name": "python3",
      "display_name": "Python 3"
    },
    "language_info": {
      "name": "python"
    }
  },
  "cells": [
    {
      "cell_type": "markdown",
      "metadata": {
        "id": "view-in-github",
        "colab_type": "text"
      },
      "source": [
        "<a href=\"https://colab.research.google.com/github/facundocarballo/ProgramacionConcurrente/blob/main/TP1/Parte4/Java.ipynb\" target=\"_parent\"><img src=\"https://colab.research.google.com/assets/colab-badge.svg\" alt=\"Open In Colab\"/></a>"
      ]
    },
    {
      "cell_type": "markdown",
      "source": [
        "# Productor Consumidor"
      ],
      "metadata": {
        "id": "PrfzUJCnfU2i"
      }
    },
    {
      "cell_type": "markdown",
      "source": [
        "El programa toma como argumento un entero de limite, crea 2 hilos hijos los cuales se van a ir compartiendo un Lock y enviando las señales de habilitacion para conseguir esa alternancia entre hilo e hilo."
      ],
      "metadata": {
        "id": "iQFlnK96fbgs"
      }
    },
    {
      "cell_type": "markdown",
      "source": [
        "# Codigo"
      ],
      "metadata": {
        "id": "QkDhCS6o6tMV"
      }
    },
    {
      "cell_type": "code",
      "source": [
        "%%writefile ProducerConsumer.java\n",
        "import java.util.concurrent.TimeUnit;\n",
        "import java.util.concurrent.locks.Condition;\n",
        "import java.util.concurrent.locks.Lock;\n",
        "import java.util.concurrent.locks.ReentrantLock;\n",
        "\n",
        "public class ProducerConsumer {\n",
        "    final static Integer MODULE = 100;\n",
        "    final static Integer TIME_SLEEP = 500;\n",
        "    final static Integer INIT_VALUE = 1;\n",
        "\n",
        "    private static Integer valorCompartido = null;\n",
        "\n",
        "  public static void main(String[] args) \n",
        "  {\n",
        "    Lock lock = new ReentrantLock();\n",
        "    Condition condition = lock.newCondition();\n",
        "    int limit = Integer.parseInt(args[0]);\n",
        "\n",
        "    Thread producer = new Thread(() -> \n",
        "    {\n",
        "      for (int i = INIT_VALUE; i <= limit; i++) \n",
        "      {\n",
        "        int valor = i % MODULE;\n",
        "\n",
        "        lock.lock();\n",
        "        try \n",
        "        {\n",
        "          valorCompartido = valor;\n",
        "          System.out.println(\"Productor produjo el valor \" + valor);\n",
        "          condition.signal();\n",
        "        } \n",
        "        finally \n",
        "        {\n",
        "          lock.unlock();\n",
        "        }\n",
        "\n",
        "        try \n",
        "        {\n",
        "          TimeUnit.MILLISECONDS.sleep(TIME_SLEEP);\n",
        "        } \n",
        "        catch (InterruptedException e) \n",
        "        {\n",
        "          e.printStackTrace();\n",
        "        }\n",
        "      }\n",
        "    });\n",
        "\n",
        "    Thread consumer = new Thread(() -> \n",
        "    {\n",
        "      for (int i = INIT_VALUE; i <= limit; i++) \n",
        "      {\n",
        "        lock.lock();\n",
        "        try \n",
        "        {\n",
        "          while (valorCompartido == null) \n",
        "          {\n",
        "            condition.await();\n",
        "          }\n",
        "\n",
        "          int valor = valorCompartido;\n",
        "          valorCompartido = null;\n",
        "          System.out.println(\"Consumidor consumió el valor \" + valor);\n",
        "        } \n",
        "        catch (InterruptedException e) \n",
        "        {\n",
        "          e.printStackTrace();\n",
        "        } \n",
        "        finally \n",
        "        {\n",
        "          lock.unlock();\n",
        "        }\n",
        "      }\n",
        "    });\n",
        "\n",
        "    // Iniciamos ambos hilos\n",
        "    producer.start();\n",
        "    consumer.start();\n",
        "  }\n",
        "}"
      ],
      "metadata": {
        "colab": {
          "base_uri": "https://localhost:8080/"
        },
        "id": "Gxffe3xZ6yxa",
        "outputId": "3b4c4e16-ab19-48f2-e210-5a829313af5c"
      },
      "execution_count": null,
      "outputs": [
        {
          "output_type": "stream",
          "name": "stdout",
          "text": [
            "Overwriting ProducerConsumer.java\n"
          ]
        }
      ]
    },
    {
      "cell_type": "markdown",
      "source": [
        "# Implementacion"
      ],
      "metadata": {
        "id": "PV3x8q_u6vP1"
      }
    },
    {
      "cell_type": "code",
      "source": [
        "!javac ProducerConsumer.java"
      ],
      "metadata": {
        "id": "cQR1emhodemV"
      },
      "execution_count": null,
      "outputs": []
    },
    {
      "cell_type": "code",
      "source": [
        "!java ProducerConsumer 10"
      ],
      "metadata": {
        "colab": {
          "base_uri": "https://localhost:8080/"
        },
        "id": "KM1FIX0rdm2p",
        "outputId": "33b2bd6b-4732-4fea-8d1f-935a9e544eee"
      },
      "execution_count": null,
      "outputs": [
        {
          "output_type": "stream",
          "name": "stdout",
          "text": [
            "Productor produjo el valor 1\n",
            "Consumidor consumió el valor 1\n",
            "Productor produjo el valor 2\n",
            "Consumidor consumió el valor 2\n",
            "Productor produjo el valor 3\n",
            "Consumidor consumió el valor 3\n",
            "Productor produjo el valor 4\n",
            "Consumidor consumió el valor 4\n",
            "Productor produjo el valor 5\n",
            "Consumidor consumió el valor 5\n",
            "Productor produjo el valor 6\n",
            "Consumidor consumió el valor 6\n",
            "Productor produjo el valor 7\n",
            "Consumidor consumió el valor 7\n",
            "Productor produjo el valor 8\n",
            "Consumidor consumió el valor 8\n",
            "Productor produjo el valor 9\n",
            "Consumidor consumió el valor 9\n",
            "Productor produjo el valor 10\n",
            "Consumidor consumió el valor 10\n"
          ]
        }
      ]
    }
  ]
}