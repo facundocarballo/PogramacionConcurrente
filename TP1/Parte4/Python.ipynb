{
  "nbformat": 4,
  "nbformat_minor": 0,
  "metadata": {
    "colab": {
      "provenance": [],
      "include_colab_link": true
    },
    "kernelspec": {
      "name": "python3",
      "display_name": "Python 3"
    },
    "language_info": {
      "name": "python"
    }
  },
  "cells": [
    {
      "cell_type": "markdown",
      "metadata": {
        "id": "view-in-github",
        "colab_type": "text"
      },
      "source": [
        "<a href=\"https://colab.research.google.com/github/facundocarballo/ProgramacionConcurrente/blob/main/TP1/Parte4/Python.ipynb\" target=\"_parent\"><img src=\"https://colab.research.google.com/assets/colab-badge.svg\" alt=\"Open In Colab\"/></a>"
      ]
    },
    {
      "cell_type": "markdown",
      "source": [
        "<H1>SINCRONIZACION PYTHON</H1>\n",
        "\n",
        "<HR>"
      ],
      "metadata": {
        "id": "j7Vew3xRdXqv"
      }
    },
    {
      "cell_type": "markdown",
      "source": [
        "\n",
        "\n",
        "\n",
        "En este proyecto, hemos creado un programa que convierte una cadena de caracteres en una contraseña generando un número para cada letra de la siguiente manera: A -> 1, B -> 2, etc. Para lograr esto, el programa principal genera dos hilos que se encargan de la conversión de cada carácter. Los hilos reciben como parámetro la cantidad de caracteres que deben procesar y trabajan de manera equitativa, de manera que cada hilo procese aproximadamente la mitad de los caracteres. En caso de que la cantidad de caracteres sea impar, un hilo procesará un carácter más que el otro.\n",
        "\n",
        "La sincronización se logra mediante el uso de un semáforo Mutex, que se utiliza para asegurar que solo un hilo a la vez pueda tomar un caracter de la cadena para procesarlo. El Mutex permite que los hilos trabajen juntos en una sección crítica, es decir, el acceso a la misma variable compartida, que es la cadena de entrada. La sección crítica está limitada a la sección donde se encuentra el Mutex, que es la verificación del estado de cada caracter y la asignación de la variable de estado correspondiente, en la función \"is_char_available\" y \"set_char_as_unavailable\", respectivamente. También se usa el Mutex en la sección donde se procesa el caracter en la función \"process_char\". El Mutex asegura que los hilos no intenten procesar el mismo caracter al mismo tiempo.\n"
      ],
      "metadata": {
        "id": "PTRHGE_pcP0K"
      }
    },
    {
      "cell_type": "code",
      "source": [
        "%%writefile sincronizacion.py\n",
        "\n",
        "import argparse\n",
        "import sys\n",
        "from threading import Semaphore, Thread\n",
        "import threading\n",
        "\n",
        "PARSER = argparse.ArgumentParser()\n",
        "PARSER.add_argument(\"input_string\", help=\"Cadena de entrada\")\n",
        "LETTERS_NUMBERS = {'A': '1', 'B': '2', 'C': '3', 'D': '4', 'E': '5',\n",
        "                   'F': '6', 'G': '7', 'H': '8', 'I': '9', 'J': '10',\n",
        "                   'K': '11', 'L': '12', 'M': '13', 'N': '14', 'O': '15',\n",
        "                   'P': '16', 'Q': '17', 'R': '18', 'S': '19', 'T': '20',\n",
        "                   'U': '21', 'V': '22', 'W': '23', 'X': '24', 'Y': '25',\n",
        "                   'Z': '26'}\n",
        "CHARS_STATE = []\n",
        "RESULT_LIST = []\n",
        "MUTEX = Semaphore(1)\n",
        "\n",
        "def get_input_string():\n",
        "    \"\"\"\n",
        "    Obtiene la cadena de entrada desde los argumentos.\n",
        "\n",
        "    Returns:\n",
        "        string, la cadena de entrada.\n",
        "    \"\"\"\n",
        "    args = PARSER.parse_args()\n",
        "    input_string = args.input_string\n",
        "    input_string = input_string.upper()\n",
        "    if not input_string.isalpha():\n",
        "        print(\"La cadena solo puede contener caracteres alfabéticos. \")\n",
        "        print(\"Por ejemplo: Hola\")\n",
        "        sys.exit(1)\n",
        "    return input_string\n",
        "\n",
        "def is_char_available(pos):\n",
        "    \"\"\"\n",
        "    Informa si un caracter está disponible para procesar.\n",
        "\n",
        "    Returns:\n",
        "        boolean, el estado del caracter: True = disponible\n",
        "        False = ocupado.\n",
        "    \"\"\"\n",
        "    return CHARS_STATE[pos]\n",
        "\n",
        "def set_char_as_unavailable(pos):\n",
        "    \"\"\"\n",
        "    Setea el caracter como ocupado en el vector de estados.\n",
        "    \"\"\"\n",
        "    CHARS_STATE[pos] = False\n",
        "\n",
        "def process_char(input_string, index):\n",
        "    \"\"\"\n",
        "    Procesa la letra y guarda el número correspondiente\n",
        "    en la posición correspondiente de la lista resultado.\n",
        "    \"\"\"\n",
        "    RESULT_LIST[index] = LETTERS_NUMBERS[input_string[index]]\n",
        "\n",
        "def thread_job(input_string, num_chars_to_process):\n",
        "    \"\"\"\n",
        "    Es la función que realizará el trabajo del thread.\n",
        "    Es decir, procesará la cantidad de caracteres indicados\n",
        "    como parámetros.\n",
        "    \"\"\"\n",
        "    num_processed_chars = 0\n",
        "    # Mientras no haya procesado la cantidad de caracteres\n",
        "    # que recibe como parámetro, sigue buscando candidatos\n",
        "    while num_processed_chars < num_chars_to_process:\n",
        "        # Recorro todos los caracteres de la cadena en busca\n",
        "        # de candidatos a procesar\n",
        "        for i in range(len(input_string)):\n",
        "            char_available = False\n",
        "            # Uso el mutex para verificar si el caracter actual\n",
        "            # está disponible para procesar\n",
        "            MUTEX.acquire()\n",
        "            char_available = is_char_available(i)\n",
        "            # Si el caracter está disponible, lo voy a tomar. Así\n",
        "            # que lo marco como ocupado y libero el mutex\n",
        "            if(char_available):\n",
        "                set_char_as_unavailable(i)\n",
        "            else:\n",
        "                print(\"\\t\")\n",
        "            MUTEX.release()\n",
        "            # Si pude tomar el caracter, lo proceso y sumo el contador\n",
        "            # de caracteres procesados. De lo contrario, sigo buscando\n",
        "            # un caracter candidato\n",
        "            if(char_available):\n",
        "                process_char(input_string, i)\n",
        "                num_processed_chars += 1\n",
        "            if(num_processed_chars == num_chars_to_process):\n",
        "                break\n",
        "\n",
        "\n",
        "\n",
        "\n",
        "    \n",
        "\n",
        "def main():\n",
        "    input_string = get_input_string()\n",
        "\n",
        "    # Inicializo un vector de booleanos cuyo valor\n",
        "    # de cada posición indica si ese caracter de la\n",
        "    # cadena fue procesado o se tomó para procesar\n",
        "    global CHARS_STATE\n",
        "    CHARS_STATE = [True] * len(input_string)\n",
        "\n",
        "    # Inicializo la lista resultante de números\n",
        "    global RESULT_LIST\n",
        "    RESULT_LIST = [\"\"] * len(input_string)\n",
        "\n",
        "    # Defino la cantidad de caracteres a procesar para\n",
        "    # cada hilo\n",
        "    num_chars_to_process_t1 = len(input_string) // 2\n",
        "    num_chars_to_process_t2 = len(input_string) - num_chars_to_process_t1\n",
        "\n",
        "    first_thread = Thread(target=thread_job, args=(input_string, num_chars_to_process_t1))\n",
        "    second_thread = Thread(target=thread_job, args=(input_string, num_chars_to_process_t2))\n",
        "\n",
        "    first_thread.start()\n",
        "    second_thread.start()\n",
        "\n",
        "    first_thread.join()\n",
        "    second_thread.join()\n",
        "\n",
        "    print(\"Lista resultado: \", RESULT_LIST)\n",
        "\n",
        "\n",
        "main()\n"
      ],
      "metadata": {
        "id": "bAnV9kzIfrNS",
        "colab": {
          "base_uri": "https://localhost:8080/"
        },
        "outputId": "a69aa091-de3d-4b1a-eab5-cc313aa09b79"
      },
      "execution_count": null,
      "outputs": [
        {
          "output_type": "stream",
          "name": "stdout",
          "text": [
            "Writing sincronizacion.py\n"
          ]
        }
      ]
    },
    {
      "cell_type": "markdown",
      "source": [
        "<H1>EJEMPLO EJECUCION</H1>\n",
        "\n",
        "<HR>"
      ],
      "metadata": {
        "id": "3Msvgt-KfSIv"
      }
    },
    {
      "cell_type": "code",
      "source": [
        "!python sincronizacion.py \"concurrente\""
      ],
      "metadata": {
        "colab": {
          "base_uri": "https://localhost:8080/"
        },
        "id": "lvKeHtd6Yvic",
        "outputId": "32f4a09b-c4a5-41c6-ba89-4be3a1c7e46e"
      },
      "execution_count": null,
      "outputs": [
        {
          "output_type": "stream",
          "name": "stdout",
          "text": [
            "\t\n",
            "\t\n",
            "\t\n",
            "\t\n",
            "\t\n",
            "Lista resultado:  ['3', '15', '14', '3', '21', '18', '18', '5', '14', '20', '5']\n"
          ]
        }
      ]
    },
    {
      "cell_type": "markdown",
      "source": [
        "<H1>EN RESUMEN</H1>\n",
        "\n",
        "<HR>"
      ],
      "metadata": {
        "id": "22I3my3ef7KI"
      }
    },
    {
      "cell_type": "markdown",
      "source": [
        "Se recibe una cadena de entrada y se procesa cada uno de sus caracteres. Se utiliza un mutex para evitar que dos hilos procesen el mismo caracter al mismo tiempo, y se implementa una estrategia para dividir el trabajo en dos hilos para acelerar el procesamiento. Al final, se imprime la lista de números resultantes correspondientes a los caracteres procesados."
      ],
      "metadata": {
        "id": "AGUGfkypf3lY"
      }
    },
    {
      "cell_type": "code",
      "source": [],
      "metadata": {
        "id": "h93tU0iKf6Y_"
      },
      "execution_count": null,
      "outputs": []
    }
  ]
}