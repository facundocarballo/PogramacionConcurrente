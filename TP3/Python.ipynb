{
  "nbformat": 4,
  "nbformat_minor": 0,
  "metadata": {
    "colab": {
      "provenance": [],
      "include_colab_link": true
    },
    "kernelspec": {
      "name": "python3",
      "display_name": "Python 3"
    },
    "language_info": {
      "name": "python"
    }
  },
  "cells": [
    {
      "cell_type": "markdown",
      "metadata": {
        "id": "view-in-github",
        "colab_type": "text"
      },
      "source": [
        "<a href=\"https://colab.research.google.com/github/facundocarballo/ProgramacionConcurrente/blob/main/TP3/Python.ipynb\" target=\"_parent\"><img src=\"https://colab.research.google.com/assets/colab-badge.svg\" alt=\"Open In Colab\"/></a>"
      ]
    },
    {
      "cell_type": "markdown",
      "source": [
        "#Función del programa\n",
        "El programa comunica dos procesos emparentados (Padre – Hijo) a través de una tubería (Pipe). La idea es que\n",
        "entre ambos procesos se genere una copia de un archivo de texto determinado.\n",
        "\n",
        "El programa principal (Padre):\n",
        "\n",
        "• Recibirá como primer parámetro el path a un archivo.\n",
        "\n",
        "• Puede recibir como segundo parámetro la cantidad de bytes a transferir en cada envío\n",
        "(chunk), en caso de no recibir nada se tomará por defecto 512.\n",
        "\n",
        "El proceso (Hijo):\n",
        "\n",
        "• Deberá replicar el archivo (generando una copia) anexando _copia al nombre. \n",
        "\n"
      ],
      "metadata": {
        "id": "SgrnopsvDd48"
      }
    },
    {
      "cell_type": "markdown",
      "source": [
        "# Ejecución del programa"
      ],
      "metadata": {
        "id": "gC_LyWgkJpwg"
      }
    },
    {
      "cell_type": "markdown",
      "source": [
        "1) Creamos el archivo del programa Python."
      ],
      "metadata": {
        "id": "wUCUrDRtIvoz"
      }
    },
    {
      "cell_type": "code",
      "execution_count": null,
      "metadata": {
        "colab": {
          "base_uri": "https://localhost:8080/"
        },
        "id": "D1iHd6ljoKpB",
        "outputId": "51cca527-3fd0-4fd8-c3fb-bc442ffaa829"
      },
      "outputs": [
        {
          "output_type": "stream",
          "name": "stdout",
          "text": [
            "Writing pipes.py\n"
          ]
        }
      ],
      "source": [
        "%%writefile pipes.py\n",
        "\"\"\"\n",
        "Uso de PIPES\n",
        "\"\"\"\n",
        "\n",
        "import argparse\n",
        "from multiprocessing import Pipe\n",
        "import os\n",
        "import signal\n",
        "import sys\n",
        "\n",
        "BYTES_PER_CHUNK = 512\n",
        "PARSER = argparse.ArgumentParser()\n",
        "PARSER.add_argument(\"filedir\", help=\"El directorio del archivo a copiar\")\n",
        "# Puse un enter aca para que la linea no sea tan larga\n",
        "# no pude poner el parentesis abajo porque tira error\n",
        "PARSER.add_argument(\n",
        "    \"bytes_per_chunk\",\n",
        "    nargs=\"?\",\n",
        "    default=512,\n",
        "    help=\"La cantidad de bytes a transferir por chunk\"\n",
        ")\n",
        "\n",
        "def is_text_file(file):\n",
        "    \"\"\"\n",
        "    Devuelve si un archivo es de texto o no, comparando\n",
        "    la extensión.\n",
        "\n",
        "    Args:\n",
        "        file: string, el directorio del archivo.\n",
        "\n",
        "    Returns:\n",
        "        boolean, el archivo es o no de texto.\n",
        "    \"\"\"\n",
        "    # Esta función retorna una tupla en la que están\n",
        "    # el path del archivo y su extensión\n",
        "    _, extension = os.path.splitext(file)\n",
        "    extension = extension.lower()\n",
        "    # Si extension se encuentra en la tupla, retornará True,\n",
        "    # de lo contrario, retornará False. Si queremos evaluar\n",
        "    # otras extensiones, bastará con agregarlas a la tupla.\n",
        "    return extension in [\".txt\"]\n",
        "\n",
        "def get_filedir():\n",
        "    \"\"\"\n",
        "    Obtiene el directorio del archivo a copiar desde los argumentos\n",
        "\n",
        "    Returns:\n",
        "        string, el directorio del archivo.\n",
        "    \"\"\"\n",
        "    args = PARSER.parse_args()\n",
        "    filedir = args.filedir\n",
        "    if not is_text_file(filedir):\n",
        "        print(\"El archivo debe ser un archivo de texto. \")\n",
        "        print(\"Por ejemplo: file.txt\")\n",
        "        sys.exit(1)\n",
        "    return filedir\n",
        "\n",
        "def set_bytes_per_chunk():\n",
        "    \"\"\"\n",
        "    Configura la cantidad a bytes a transferir por chunk\n",
        "    desde los argumentos.\n",
        "    \"\"\"\n",
        "    args = PARSER.parse_args()\n",
        "    global BYTES_PER_CHUNK\n",
        "    BYTES_PER_CHUNK = int(args.bytes_per_chunk)\n",
        "\n",
        "def get_copy_file_name(filedir):\n",
        "    \"\"\"\n",
        "    Obtiene el directorio de la copia del archivo.\n",
        "    El nombre del archivo copia tiene que ser el nombre\n",
        "    del archivo original, concatenado con \"_copia\" al final.\n",
        "\n",
        "    Args:\n",
        "        filedir: string, el directorio del archivo original.\n",
        "\n",
        "    Returns:\n",
        "        string, el directorio de la copia del archivo.\n",
        "    \"\"\"\n",
        "    path, extension = os.path.splitext(filedir)\n",
        "    extension = extension.lower()\n",
        "    return path + \"_copia\" + extension\n",
        "\n",
        "def send_file(sender, receiver, filedir):\n",
        "    \"\"\"\n",
        "    Envía el contenido del archivo original por el pipe.\n",
        "\n",
        "    Args:\n",
        "        sender: objeto Pipe, el extremo del pipe por el que se envía el contenido del archivo.\n",
        "        receiver: objeto Pipe, el extremo del pipe por el que se recibe el contenido del archivo.\n",
        "        filedir: string, el directorio del archivo original.\n",
        "    \"\"\"\n",
        "    receiver.close()\n",
        "    with open(filedir, \"r\", encoding=\"utf-8\") as original_file:\n",
        "        data = original_file.read(BYTES_PER_CHUNK)\n",
        "        while data:\n",
        "            sender.send_bytes(data.encode(\"utf-8\"))\n",
        "            data = original_file.read(BYTES_PER_CHUNK)\n",
        "    original_file.close()\n",
        "    sender.close()\n",
        "\n",
        "def copy_file(sender, receiver, copy_filedir):\n",
        "    \"\"\"\n",
        "    Recibe el contenido del archivo original por el pipe y lo copia\n",
        "    en un archivo nuevo.\n",
        "\n",
        "    Args:\n",
        "        sender: objeto Pipe, el extremo del pipe por el que se envío el contenido del archivo.\n",
        "        receiver: objeto Pipe, el extremo del pipe por el que se recibe el contenido del archivo.\n",
        "        copy_filedir: string, el directorio del archivo copia.\n",
        "    \"\"\"\n",
        "    sender.close()\n",
        "    try:\n",
        "        with open(copy_filedir, \"w\", encoding=\"utf-8\") as copied_file:\n",
        "            try:\n",
        "                data = receiver.recv_bytes(BYTES_PER_CHUNK).decode(\"utf-8\")\n",
        "                while data:\n",
        "                    copied_file.write(data)\n",
        "                    print(\"Copiando \", len(data), \" bytes\")\n",
        "                    data = receiver.recv_bytes(BYTES_PER_CHUNK).decode(\"utf-8\")\n",
        "            except EOFError:\n",
        "                pass\n",
        "            print(\"El archivo se copió exitosamente.\")\n",
        "    except(FileNotFoundError, PermissionError):\n",
        "        print(\"No se puede crear o escribir el archivo copia.\")\n",
        "\n",
        "    copied_file.close()\n",
        "    receiver.close()\n",
        "\n",
        "def main():\n",
        "    filedir = get_filedir()\n",
        "\n",
        "    # Me fijo si el archivo existe y si se puede abrir\n",
        "    try:\n",
        "        with open(filedir, \"r\", encoding=\"utf-8\"):\n",
        "            pass\n",
        "    except(FileNotFoundError, PermissionError, IOError):\n",
        "        print(\"El archivo no existe o no se puede abrir. Finalizando.\")\n",
        "        sys.exit(1)\n",
        "\n",
        "    copy_filedir = get_copy_file_name(filedir)\n",
        "    set_bytes_per_chunk()\n",
        "\n",
        "    receiving, sending = Pipe(False)\n",
        "\n",
        "    pid = os.fork()\n",
        "    if pid < 0:\n",
        "        print(\"Error al crear el nuevo proceso\")\n",
        "        sys.exit(1)\n",
        "\n",
        "    if pid:\n",
        "        send_file(sending, receiving, filedir)\n",
        "        os.wait()\n",
        "    else:\n",
        "        copy_file(sending, receiving, copy_filedir)\n",
        "        sys.exit(0)\n",
        "\n",
        "\n",
        "main()\n"
      ]
    },
    {
      "cell_type": "markdown",
      "source": [
        "2) Creamos un archivo de texto."
      ],
      "metadata": {
        "id": "KME2tKzqI1bk"
      }
    },
    {
      "cell_type": "code",
      "source": [
        "%%writefile file.txt\n",
        "test\n",
        "text\n",
        "file"
      ],
      "metadata": {
        "colab": {
          "base_uri": "https://localhost:8080/"
        },
        "id": "_0OJnlpjEjTg",
        "outputId": "ccb22bcb-7c14-496e-c78c-dbfb5fdd15eb"
      },
      "execution_count": null,
      "outputs": [
        {
          "output_type": "stream",
          "name": "stdout",
          "text": [
            "Writing file.txt\n"
          ]
        }
      ]
    },
    {
      "cell_type": "markdown",
      "source": [
        "3) Llamamos al programa con sus argumentos."
      ],
      "metadata": {
        "id": "rT9eTR1fI5Ac"
      }
    },
    {
      "cell_type": "code",
      "source": [
        "!python pipes.py file.txt 1"
      ],
      "metadata": {
        "colab": {
          "base_uri": "https://localhost:8080/"
        },
        "id": "mrV-9XU2E1-u",
        "outputId": "6d050ee2-f22c-4761-89e6-40c62e81b4e9"
      },
      "execution_count": null,
      "outputs": [
        {
          "output_type": "stream",
          "name": "stdout",
          "text": [
            "Copiando  1  bytes\n",
            "Copiando  1  bytes\n",
            "Copiando  1  bytes\n",
            "Copiando  1  bytes\n",
            "Copiando  1  bytes\n",
            "Copiando  1  bytes\n",
            "Copiando  1  bytes\n",
            "Copiando  1  bytes\n",
            "Copiando  1  bytes\n",
            "Copiando  1  bytes\n",
            "Copiando  1  bytes\n",
            "Copiando  1  bytes\n",
            "Copiando  1  bytes\n",
            "Copiando  1  bytes\n",
            "Copiando  1  bytes\n",
            "El archivo se copió exitosamente.\n"
          ]
        }
      ]
    },
    {
      "cell_type": "markdown",
      "source": [
        "4) Vemos el contenido del archivo copia."
      ],
      "metadata": {
        "id": "C4QTV4VKJBxG"
      }
    },
    {
      "cell_type": "code",
      "source": [
        "!cat file_copia.txt"
      ],
      "metadata": {
        "colab": {
          "base_uri": "https://localhost:8080/"
        },
        "id": "UM1YYzHYFQ0D",
        "outputId": "e7edd5c0-5f91-492b-cef9-c98aa5abbd81"
      },
      "execution_count": null,
      "outputs": [
        {
          "output_type": "stream",
          "name": "stdout",
          "text": [
            "test\n",
            "text\n",
            "file\n"
          ]
        }
      ]
    },
    {
      "cell_type": "markdown",
      "source": [
        "5) Ejecutamos el comando diff, si la terminal no muestra nada y retorna 0, quiere decir que los archivos son iguales."
      ],
      "metadata": {
        "id": "sJHeIjEsJEEf"
      }
    },
    {
      "cell_type": "code",
      "source": [
        "!diff file.txt file_copia.txt"
      ],
      "metadata": {
        "id": "ObFBw7mRFhg2"
      },
      "execution_count": null,
      "outputs": []
    },
    {
      "cell_type": "markdown",
      "source": [
        "## Conclusiones"
      ],
      "metadata": {
        "id": "pYeWVohmJSg-"
      }
    },
    {
      "cell_type": "markdown",
      "source": [
        "No tuvimos mayores complicaciones para desarrollar el programa. En general, Python tiene muchas cosas ya resueltas que son simples de implementar, por ejemplo, el manejo de parámetros.\n",
        "\n",
        "Sin embargo, algo que nos llamó la atención fue un EOFError que arrojaba el proceso al llamar a la función recv_bytes. Este error ocurría cuando en la tubería no había nada más escrito, es decir, ya se había terminado de transferir todo el archivo y el proceso hijo intentaba leer de la tubería con recv_bytes. Lo que no pudimos descubrir es si el error lo arrojaba porque se intentaba recibir bytes de una tubería ya cerrada (entendemos que esto no debería ocurrir, ya que la tubería debería cerrarse una vez que se cierran ambos descriptores desde ambos lados, ¿o no?) o si el problema era intentar leer el EOF del archivo de texto en sí. De todos modos, lo solucionamos metiendo esas líneas de código dentro de una sentencia try, y, si se atrapa una excepción del tipo EOFError, el proceso continúa."
      ],
      "metadata": {
        "id": "8geDowMmJVRk"
      }
    }
  ]
}