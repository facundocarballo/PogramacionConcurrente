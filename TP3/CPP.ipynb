{
  "nbformat": 4,
  "nbformat_minor": 0,
  "metadata": {
    "colab": {
      "provenance": [],
      "authorship_tag": "ABX9TyO+Yx66rsWOYl0lK6XuGGnj",
      "include_colab_link": true
    },
    "kernelspec": {
      "name": "python3",
      "display_name": "Python 3"
    },
    "language_info": {
      "name": "python"
    }
  },
  "cells": [
    {
      "cell_type": "markdown",
      "metadata": {
        "id": "view-in-github",
        "colab_type": "text"
      },
      "source": [
        "<a href=\"https://colab.research.google.com/github/facundocarballo/ProgramacionConcurrente/blob/main/TP3/CPP.ipynb\" target=\"_parent\"><img src=\"https://colab.research.google.com/assets/colab-badge.svg\" alt=\"Open In Colab\"/></a>"
      ]
    },
    {
      "cell_type": "markdown",
      "source": [
        "# FIFO - PIPE con Nombre"
      ],
      "metadata": {
        "id": "tqoJfrICkHfT"
      }
    },
    {
      "cell_type": "markdown",
      "source": [
        "Este sistema cuenta con 2 procesos, un proceso que hace de \"Servidor\" y otro proceso que hace de \"Cliente\".\n",
        "\n",
        "El cliente envia una cierta cantidad de numeros (puede enviar cuantos quiera) separados por '-'. El Servidor, recibe esa informacion y la procesa. Obteniendo estos datos:\n",
        "- Promedio\n",
        "- Minimo\n",
        "- Maximo\n",
        "- Suma\n",
        "- Cantidad de numeros enviados\n",
        "\n",
        "La siguiente imagen representa como funciona este sistema de comunicacion de procesos."
      ],
      "metadata": {
        "id": "0wr1H3TV1buj"
      }
    },
    {
      "cell_type": "markdown",
      "source": [
        "![Diagrama.png](data:image/png;base64,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)"
      ],
      "metadata": {
        "id": "2zpyaL0gyfcZ"
      }
    },
    {
      "cell_type": "markdown",
      "source": [
        "**El Proceso A es el Servidor.**\n",
        "\n",
        "**El Proceso B es el Cliente.**\n",
        "\n",
        "El Cliente utiliza la Tuberia \"A\" para escribir su peticion.\n",
        "\n",
        "El Servidor utiliza la Tuberia \"A\" para leer la peticion del Cliente.\n",
        "\n",
        "El Servidor utiliza la Tuberia \"B\" para escribir la respuesta al Cliente.\n",
        "\n",
        "El Cliente utiliza la Tuberia \"B\" para leer la respuesta del Servidor."
      ],
      "metadata": {
        "id": "hnVSxh2D05-L"
      }
    },
    {
      "cell_type": "markdown",
      "source": [
        "# Servidor"
      ],
      "metadata": {
        "id": "fwgNImEM5Gb7"
      }
    },
    {
      "cell_type": "code",
      "execution_count": 42,
      "metadata": {
        "colab": {
          "base_uri": "https://localhost:8080/"
        },
        "id": "2f6friKJyYGl",
        "outputId": "f54a865c-a19e-4d91-d8f3-fe67d9360c5d"
      },
      "outputs": [
        {
          "output_type": "stream",
          "name": "stdout",
          "text": [
            "Overwriting server.cpp\n"
          ]
        }
      ],
      "source": [
        "%%writefile server.cpp\n",
        "#include <fcntl.h>\n",
        "#include <sys/stat.h>\n",
        "#include <unistd.h>\n",
        "\n",
        "#include <iostream>\n",
        "\n",
        "#define FIFO_PERMISSIONS 0666\n",
        "#define MKFIFO_ERROR -1\n",
        "#define INFO_MAX_INIT_VALUE 0\n",
        "#define INFO_MIN_INIT_VALUE 2147483647\n",
        "#define INFO_AVERAGE_INIT_VALUE 0\n",
        "#define INFO_ADITION_INIT_VALUE 0\n",
        "\n",
        "typedef struct t_info \n",
        "{\n",
        "  float average;\n",
        "  int max, min, addition, amount;\n",
        "} Info;\n",
        "\n",
        "void InitInfo(Info*, int*);\n",
        "bool TryChangeMax(Info*, int*);\n",
        "bool TryChangeMin(Info*, int*);\n",
        "void IncrementAddition(Info*, int*);\n",
        "void SetAverage(Info*);\n",
        "void MakeDeamon();\n",
        "\n",
        "int fileA, fileB, num;\n",
        "const char* kFifoA = \"/tmp/TP3_M3-A1\";\n",
        "const char* kFifoB = \"/tmp/TP3_M3-B1\";\n",
        "Info info;\n",
        "\n",
        "int main() \n",
        "{\n",
        "  MakeDeamon();\n",
        "  \n",
        "  if (mkfifo(kFifoB, FIFO_PERMISSIONS) == MKFIFO_ERROR) \n",
        "  {\n",
        "    perror(\"Error al crear el FIFO.\");\n",
        "    return EXIT_FAILURE;\n",
        "  }\n",
        "\n",
        "  if (mkfifo(kFifoA, FIFO_PERMISSIONS) == MKFIFO_ERROR) \n",
        "  {\n",
        "    perror(\"Error al crear el FIFO.\");\n",
        "    return EXIT_FAILURE;\n",
        "  }\n",
        "\n",
        "  fileA = open(kFifoA, O_RDONLY);\n",
        "  fileB = open(kFifoB, O_WRONLY);\n",
        "\n",
        "  read(fileA, &num, sizeof(int));\n",
        "  InitInfo(&info, &num);\n",
        "  for (int i = 0; i < info.amount; i++) \n",
        "  {\n",
        "    read(fileA, &num, sizeof(int));\n",
        "    TryChangeMax(&info, &num);\n",
        "    TryChangeMin(&info, &num);\n",
        "    IncrementAddition(&info, &num);\n",
        "  }\n",
        "  SetAverage(&info);\n",
        "  write(fileB, &info, sizeof(Info));\n",
        "\n",
        "  close(fileA);\n",
        "  close(fileB);\n",
        "  unlink(kFifoB);\n",
        "  unlink(kFifoA);\n",
        "\n",
        "  return EXIT_SUCCESS;\n",
        "}\n",
        "\n",
        "void MakeDeamon()\n",
        "{\n",
        "  int pid = fork();\n",
        "  if (pid < 0)\n",
        "  {\n",
        "    perror(\"Fork error.\");\n",
        "  }\n",
        "  else if (pid > 0)\n",
        "  {\n",
        "    exit(EXIT_SUCCESS);\n",
        "  }\n",
        "}\n",
        "\n",
        "void InitInfo(Info* info, int* amount) \n",
        "{\n",
        "  info->addition = INFO_ADITION_INIT_VALUE;\n",
        "  info->amount = *amount;\n",
        "  info->average = INFO_AVERAGE_INIT_VALUE;\n",
        "  info->max = INFO_MAX_INIT_VALUE;\n",
        "  info->min = INFO_MIN_INIT_VALUE;\n",
        "}\n",
        "\n",
        "bool TryChangeMax(Info* info, int* num) \n",
        "{\n",
        "  if (*num > info->max) {\n",
        "    info->max = *num;\n",
        "    return true;\n",
        "  }\n",
        "\n",
        "  return false;\n",
        "}\n",
        "\n",
        "bool TryChangeMin(Info* info, int* num) \n",
        "{\n",
        "  if (*num < info->min) {\n",
        "    info->min = *num;\n",
        "    return true;\n",
        "  }\n",
        "\n",
        "  return false;\n",
        "}\n",
        "\n",
        "void IncrementAddition(Info* info, int* num) \n",
        "{ \n",
        "    info->addition += *num; \n",
        "}\n",
        "\n",
        "void SetAverage(Info* info) \n",
        "{\n",
        "  info->average = (float)info->addition / (float)info->amount;\n",
        "}"
      ]
    },
    {
      "cell_type": "markdown",
      "source": [
        "# Cliente"
      ],
      "metadata": {
        "id": "4URwVeeh5JHC"
      }
    },
    {
      "cell_type": "code",
      "source": [
        "%%writefile client.cpp\n",
        "#include <fcntl.h>\n",
        "#include <sys/stat.h>\n",
        "#include <unistd.h>\n",
        "\n",
        "#include <iostream>\n",
        "\n",
        "#define FIFO_PERMISSIONS 0666\n",
        "#define POS_NUMBERS 1\n",
        "#define STR_INITIAL_POS 0\n",
        "#define STR_NEXT_POS 1\n",
        "#define CHAR_SEPARATOR '-'\n",
        "\n",
        "typedef struct t_info \n",
        "{\n",
        "  float average;\n",
        "  int max, min, addition, amount;\n",
        "} Info;\n",
        "\n",
        "int fileA, fileB, num, amount = 1;\n",
        "const char* kFifoA = \"/tmp/TP3_M3-A1\";\n",
        "const char* kFifoB = \"/tmp/TP3_M3-B1\";\n",
        "Info info;\n",
        "\n",
        "void SendAmountOfNumbers(std::string msg);\n",
        "void SendNumbers(std::string msg);\n",
        "void PrintInfo(Info* info);\n",
        "void Help();\n",
        "\n",
        "int main(int argc, char* argv[]) \n",
        "{\n",
        "  if (argc != 2)\n",
        "  {\n",
        "    Help();\n",
        "    return EXIT_FAILURE;\n",
        "  }\n",
        "\n",
        "  fileA = open(kFifoA, O_WRONLY);\n",
        "  fileB = open(kFifoB, O_RDONLY);\n",
        "\n",
        "  // Send data\n",
        "  SendAmountOfNumbers(argv[POS_NUMBERS]);\n",
        "  SendNumbers(argv[POS_NUMBERS]);\n",
        "\n",
        "  // Receive data.\n",
        "  read(fileB, &info, sizeof(Info));\n",
        "\n",
        "  PrintInfo(&info);\n",
        "\n",
        "  close(fileB);\n",
        "  close(fileA);\n",
        "}\n",
        "\n",
        "void SendNumbers(std::string msg) \n",
        "{\n",
        "  int pos = msg.find(CHAR_SEPARATOR);\n",
        "  while (pos != std::string::npos) \n",
        "  {\n",
        "    num = stoi(msg.substr(STR_INITIAL_POS, pos));\n",
        "    write(fileA, &num, sizeof(int));\n",
        "    msg = msg.substr(pos + STR_NEXT_POS);\n",
        "    pos = msg.find(CHAR_SEPARATOR);\n",
        "  }\n",
        "  num = stoi(msg);\n",
        "  write(fileA, &num, sizeof(int));\n",
        "}\n",
        "\n",
        "void SendAmountOfNumbers(std::string msg) \n",
        "{\n",
        "  int pos = msg.find(CHAR_SEPARATOR);\n",
        "  while (pos != std::string::npos) \n",
        "  {\n",
        "    amount++;\n",
        "    msg = msg.substr(pos + STR_NEXT_POS);\n",
        "    pos = msg.find(CHAR_SEPARATOR);\n",
        "  }\n",
        "  write(fileA, &amount, sizeof(int));\n",
        "}\n",
        "\n",
        "void PrintInfo(Info* info) \n",
        "{\n",
        "  std::cout << \"Promedio: \" << info->average << std::endl;\n",
        "  std::cout << \"Mínimo: \" << info->min << std::endl;\n",
        "  std::cout << \"Máximo: \" << info->max << std::endl;\n",
        "  std::cout << \"Suma: \" << info->addition << std::endl;\n",
        "  std::cout << \"Cantidad: \" << info->amount << std::endl;\n",
        "}\n",
        "\n",
        "void Help()\n",
        "{\n",
        "    std::cout << \"Este programa envia una secuencia de numeros a un servidor y espera esta informacion:\" << std::endl;\n",
        "    std::cout << \"  - Promedio\" << std::endl;\n",
        "    std::cout << \"  - Mínimo\" << std::endl;\n",
        "    std::cout << \"  - Máximo\" << std::endl;\n",
        "    std::cout << \"  - Suma\" << std::endl;\n",
        "    std::cout << \"  - Cantidad\" << std::endl;\n",
        "    std::cout << \"Como ejecutar el programa correctamente?\" << std::endl;\n",
        "    std::cout << \"./client 1-2-3-4\" << std::endl;\n",
        "    std::cout << \"Siendo 1-2-3-4 mi secuencia de numeros de la cual yo quiero obtener informacion.\" << std::endl;\n",
        "}"
      ],
      "metadata": {
        "colab": {
          "base_uri": "https://localhost:8080/"
        },
        "id": "IDbvHfxC4-nN",
        "outputId": "69ad6aa6-ed51-4133-f10e-a9535881d4a8"
      },
      "execution_count": 43,
      "outputs": [
        {
          "output_type": "stream",
          "name": "stdout",
          "text": [
            "Overwriting client.cpp\n"
          ]
        }
      ]
    },
    {
      "cell_type": "markdown",
      "source": [
        "# Ejecucion"
      ],
      "metadata": {
        "id": "ZfTAiYtC8r13"
      }
    },
    {
      "cell_type": "markdown",
      "source": [
        "Compilamos los programas."
      ],
      "metadata": {
        "id": "rskmBmlJ5MRy"
      }
    },
    {
      "cell_type": "code",
      "source": [
        "!g++ server.cpp -o server.bin"
      ],
      "metadata": {
        "id": "GViClhlC5Mow"
      },
      "execution_count": 38,
      "outputs": []
    },
    {
      "cell_type": "code",
      "source": [
        "!g++ client.cpp -o client"
      ],
      "metadata": {
        "id": "QFWyK-qC8Tb8"
      },
      "execution_count": 39,
      "outputs": []
    },
    {
      "cell_type": "markdown",
      "source": [
        "Ejecutamos en segundo plano al Servidor."
      ],
      "metadata": {
        "id": "M7V2Q7kO9YRj"
      }
    },
    {
      "cell_type": "code",
      "source": [
        "!nohup ./server.bin 1> salidaC 2> /dev/null & "
      ],
      "metadata": {
        "id": "keU7rc4k9Qf3"
      },
      "execution_count": 40,
      "outputs": []
    },
    {
      "cell_type": "markdown",
      "source": [
        "Ejecutamos el cliente"
      ],
      "metadata": {
        "id": "wrF7BiDT8frW"
      }
    },
    {
      "cell_type": "code",
      "source": [
        "!./client 1-2-3-4"
      ],
      "metadata": {
        "id": "LYH1r7if8hTL"
      },
      "execution_count": null,
      "outputs": []
    }
  ]
}