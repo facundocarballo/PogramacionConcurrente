{
  "nbformat": 4,
  "nbformat_minor": 0,
  "metadata": {
    "colab": {
      "provenance": [],
      "include_colab_link": true
    },
    "kernelspec": {
      "name": "python3",
      "display_name": "Python 3"
    },
    "language_info": {
      "name": "python"
    }
  },
  "cells": [
    {
      "cell_type": "markdown",
      "metadata": {
        "id": "view-in-github",
        "colab_type": "text"
      },
      "source": [
        "<a href=\"https://colab.research.google.com/github/facundocarballo/ProgramacionConcurrente/blob/main/TP2/Parte2/TP2_Parte_2.ipynb\" target=\"_parent\"><img src=\"https://colab.research.google.com/assets/colab-badge.svg\" alt=\"Open In Colab\"/></a>"
      ]
    },
    {
      "cell_type": "markdown",
      "source": [
        "# Programacion Concurrente - TP2 - Parte 2\n",
        "\n",
        "Para este ejercicio se ha optado por aplicar el tema teórico MPI (Message Passing Interface). La finalidad del ejercicio es ampliar el conocimiento sobras la manera que posee Python para implementar la comunicación entre distintos procesos con el uso de una librería denominada MPI4py [1]. Para más información puede consultar la última revisión en [2].\n",
        "\n",
        "Este ejercicio fue presentado por alumnos del curso 2020."
      ],
      "metadata": {
        "id": "iHNbVE9t_tGA"
      }
    },
    {
      "cell_type": "markdown",
      "source": [
        "## 2.1. Ejercicio - Hola Mundo con MPI"
      ],
      "metadata": {
        "id": "_rzw_apA__YR"
      }
    },
    {
      "cell_type": "markdown",
      "source": [
        "### 2.1.1. Preguntas del ejercicio\n",
        "\n",
        "Ejecute este ejemplo para\n",
        " o más instancias y responda:\n",
        "\n",
        "a) ¿Qué función realiza la instancia maestra? ¿Qué función realizan las instancias esclavas?\n",
        "\n",
        "b) ¿Cuántas de esas instancias ejecuta la función main(), initWork() y doWork()?\n",
        "\n",
        "c) ¿Cómo se diferencian los mensajes de trabajo o de finalización?\n",
        "\n",
        "d) ¿Cómo implementaría la función BLAS axpy() con este patrón?¿Sería eficiente? Tips: Pide solo el planteo, no la implementación.\n",
        "\n",
        "e) ¿Qué sucede cuando solo ejecuta con una sola instancia?\n",
        "\n",
        "f) Punto opcional: El código que ejecutan las instancias esclavas, tienen un error en su lógica. ¿Cómo se podría solucionar?"
      ],
      "metadata": {
        "id": "5ZRQYZ1FAJlb"
      }
    },
    {
      "cell_type": "markdown",
      "source": [
        "#### 2.1.2. Armado del ambiente\n",
        "\n",
        "Es en donde se instalar, por única vez, el módulo MPI4py de Python en el cuaderno."
      ],
      "metadata": {
        "id": "F4nZNh3cAR38"
      }
    },
    {
      "cell_type": "code",
      "source": [
        "! pip install mpi4py"
      ],
      "metadata": {
        "colab": {
          "base_uri": "https://localhost:8080/"
        },
        "id": "7Gw16cX7AUqz",
        "outputId": "ba843c13-63fa-4eb5-f765-d940ab38d863"
      },
      "execution_count": null,
      "outputs": [
        {
          "output_type": "stream",
          "name": "stdout",
          "text": [
            "Looking in indexes: https://pypi.org/simple, https://us-python.pkg.dev/colab-wheels/public/simple/\n",
            "Collecting mpi4py\n",
            "  Downloading mpi4py-3.1.4.tar.gz (2.5 MB)\n",
            "\u001b[2K     \u001b[90m━━━━━━━━━━━━━━━━━━━━━━━━━━━━━━━━━━━━━━━━\u001b[0m \u001b[32m2.5/2.5 MB\u001b[0m \u001b[31m19.5 MB/s\u001b[0m eta \u001b[36m0:00:00\u001b[0m\n",
            "\u001b[?25h  Installing build dependencies ... \u001b[?25l\u001b[?25hdone\n",
            "  Getting requirements to build wheel ... \u001b[?25l\u001b[?25hdone\n",
            "  Preparing metadata (pyproject.toml) ... \u001b[?25l\u001b[?25hdone\n",
            "Building wheels for collected packages: mpi4py\n",
            "  Building wheel for mpi4py (pyproject.toml) ... \u001b[?25l\u001b[?25hdone\n",
            "  Created wheel for mpi4py: filename=mpi4py-3.1.4-cp310-cp310-linux_x86_64.whl size=3365676 sha256=eeb9b2f533791542b63e8b65fb13e65e3ebdead4c827a7d52d58b81a12167172\n",
            "  Stored in directory: /root/.cache/pip/wheels/e8/1b/b5/97ec4cfccdde26e0f3590ad6e09a5242d508dff09704ef86c1\n",
            "Successfully built mpi4py\n",
            "Installing collected packages: mpi4py\n",
            "Successfully installed mpi4py-3.1.4\n"
          ]
        }
      ]
    },
    {
      "cell_type": "markdown",
      "source": [
        "#### 2.1.3. Código del programa en Lenguaje Python"
      ],
      "metadata": {
        "id": "SaJmqiptA8bZ"
      }
    },
    {
      "cell_type": "code",
      "source": [
        "%%writefile Ejercicio2.py\n",
        "from mpi4py import MPI\n",
        "import numpy as np\n",
        "import time\n",
        "\n",
        "# --------------------------------------------\n",
        "# Formulario\n",
        "Max_tiempo_sleep =   5#@param {type: \"slider\", min: 1, max: 10}\n",
        "Min_tiempo_sleep =   0#@param {type: \"slider\", min: 0, max: 10}\n",
        "# --------------------------------------------\n",
        "\n",
        "# --------------------------------------------\n",
        "# Constantes de comunicacion\n",
        "WORK_FLAG = 1\n",
        "END_WORK_FLAG = 2\n",
        "# --------------------------------------------\n",
        "\n",
        "def main():\n",
        "    comm = MPI.COMM_WORLD # Instanciamos el tipo de comunicador a utilizar.\n",
        "    id = comm.Get_rank()  # Obtenemos el id como atributo del proceso que se ejecuta.\n",
        "\n",
        "    # Utilizamos el 0 para definir al procesos Maestro, cualquier otro id sera un esclavo.\n",
        "    if (id == 0) :\n",
        "        init() # Llamamos funcion init para eventos que requeriremos inicialmente solo 1 vez.\n",
        "        numProcesses = comm.Get_size()  # Obtenemos el numero de procesos totales ejecutados.\n",
        "        numTasks = (numProcesses-1)*4 # Se setea el numero de tareas.\n",
        "        workTimes = generateTasks(numTasks) # Se generan las tareas, en este caso seran\n",
        "        print(\"El jefe crea {} horas de descanso de sus empleados:\".format(workTimes.size), flush=True)\n",
        "        print(workTimes, flush=True)\n",
        "        initWork(comm, workTimes, numProcesses)\n",
        "    else:\n",
        "        doWork(comm)\n",
        "\n",
        "def generateTasks(numTasks):\n",
        "    #TODO: Cambiar la semilla del random para que se generen efectivamente diferentes numeros.\n",
        "    np.random.seed(1000)\n",
        "    return np.random.randint(low=Min_tiempo_sleep, high=Max_tiempo_sleep, size=numTasks)\n",
        "\n",
        "def init():\n",
        "  print()\n",
        "  print(\"Version MPI4py utilizada: {}\".format(MPI.Get_version()), flush=True)\n",
        "  print()\n",
        "  print( \"------------------------------------\", flush=True)\n",
        "  print( \"Sistema de trabajo Suizo:\", flush=True)\n",
        "  print( \"------------------------------------\", flush=True)\n",
        "  print()\n",
        "\n",
        "def initWork(comm, workTimes, numProcesses):\n",
        "    totalWork = workTimes.size\n",
        "    workcount = 0\n",
        "    recvcount = 0\n",
        "\n",
        "    print(\"Jefe enviando las tareas iniciales:\", flush=True)\n",
        "    for id in range(1, numProcesses):\n",
        "        if workcount < totalWork:\n",
        "            work=workTimes[workcount]\n",
        "            comm.send(work, dest=id, tag=WORK_FLAG) # Envia mensaje de iniciar trabajo con el dato correspondiente del array.\n",
        "            workcount += 1\n",
        "            print(\"Jefe envia trabajo y {} hs de descanso al empleado {}.\".format(work, id), flush=True)\n",
        "    print( \"------------------------------------\", flush=True)\n",
        "\n",
        "    # Mientras haya trabajo, se recibe el resultado de los empleados y se sigue enviando MAS trabajo.\n",
        "    while (workcount < totalWork) :\n",
        "        stat = MPI.Status()\n",
        "        workTime = comm.recv(source=MPI.ANY_SOURCE, status=stat) # Recivimos resultados de los empleados.\n",
        "        recvcount += 1\n",
        "        workerId = stat.Get_source() # Obtenemos el identificador del empleado.\n",
        "        print(\"Jefe recibe trabajo completado {} del empleado {}.\".format(workTime, workerId), flush=True)\n",
        "        #send next work\n",
        "        work=workTimes[workcount]\n",
        "        comm.send(work, dest=workerId, tag=WORK_FLAG)\n",
        "        workcount += 1\n",
        "        print(\"Jefe envia nuevo trabajo y {} hs de descanso al empleado {}.\".format(work, workerId), flush=True)\n",
        "\n",
        "    while (recvcount < totalWork):\n",
        "        stat = MPI.Status()\n",
        "        workTime = comm.recv(source=MPI.ANY_SOURCE, status=stat)\n",
        "        recvcount += 1\n",
        "        workerId = stat.Get_source()\n",
        "        print(\"Jefe recibe trabajo completado {} del empleado {}.\".format(workTime, workerId), flush=True)\n",
        "\n",
        "    for id in range(1, numProcesses):\n",
        "        comm.send(0, dest=id, tag=END_WORK_FLAG)\n",
        "\n",
        "\n",
        "def doWork(comm):\n",
        "    while(True):\n",
        "        stat = MPI.Status() # Obtiene el estado actual del empleado.\n",
        "        waitTime = comm.recv(source=0, tag=MPI.ANY_TAG, status=stat) # Obtiene lo enviado por el Jefe.\n",
        "        print(\"Soy el empleado con id {}, toca descanzo por {} hs.\".format(comm.Get_rank(), waitTime), flush=True)\n",
        "\n",
        "        if (stat.Get_tag() == END_WORK_FLAG):\n",
        "            print(\"Marca tarjeta el empleado {}.\".format(comm.Get_rank()), flush=True)\n",
        "            return\n",
        "        time.sleep(waitTime)\n",
        "        comm.send(waitTime, dest=0)\n",
        "\n",
        "main()"
      ],
      "metadata": {
        "colab": {
          "base_uri": "https://localhost:8080/"
        },
        "id": "e7d1ttCmA9hz",
        "outputId": "ef867901-aae5-4863-c76b-6dfe2f8fa583"
      },
      "execution_count": null,
      "outputs": [
        {
          "output_type": "stream",
          "name": "stdout",
          "text": [
            "Overwriting Ejercicio2.py\n"
          ]
        }
      ]
    },
    {
      "cell_type": "markdown",
      "source": [
        "#### 2.1.4 Ejecución del programa"
      ],
      "metadata": {
        "id": "r2R3OnXLBENQ"
      }
    },
    {
      "cell_type": "code",
      "source": [
        "# --------------------------------------------\n",
        "#@title Parámetros de ejecución { vertical-output: true }\n",
        "NRO =   6#@param {type: \"number\"}\n",
        "# --------------------------------------------\n",
        "\n",
        "! mpirun --allow-run-as-root --oversubscribe -np $NRO python Ejercicio2.py\n"
      ],
      "metadata": {
        "colab": {
          "base_uri": "https://localhost:8080/"
        },
        "id": "jdSG2qxFBFB5",
        "outputId": "3caacca9-10ef-46ef-bdf3-cdb9ab3684b3",
        "cellView": "form"
      },
      "execution_count": null,
      "outputs": [
        {
          "output_type": "stream",
          "name": "stdout",
          "text": [
            "\n",
            "Version MPI4py utilizada: (3, 1)\n",
            "\n",
            "------------------------------------\n",
            "Sistema de trabajo Suizo:\n",
            "------------------------------------\n",
            "\n",
            "El jefe crea 20 horas de descanso de sus empleados:\n",
            "[3 0 3 4 1 0 1 0 1 4 3 4 4 2 2 1 4 4 2 1]\n",
            "Jefe enviando las tareas iniciales:\n",
            "Jefe envia trabajo y 3 hs de descanso al empleado 1.\n",
            "Jefe envia trabajo y 0 hs de descanso al empleado 2.\n",
            "Jefe envia trabajo y 3 hs de descanso al empleado 3.\n",
            "Jefe envia trabajo y 4 hs de descanso al empleado 4.\n",
            "Jefe envia trabajo y 1 hs de descanso al empleado 5.\n",
            "------------------------------------\n",
            "Soy el empleado con id 2, toca descanzo por 0 hs.\n",
            "Jefe recibe trabajo completado 0 del empleado 2.\n",
            "Jefe envia nuevo trabajo y 0 hs de descanso al empleado 2.\n",
            "Soy el empleado con id 2, toca descanzo por 0 hs.\n",
            "Jefe recibe trabajo completado 0 del empleado 2.\n",
            "Jefe envia nuevo trabajo y 1 hs de descanso al empleado 2.\n",
            "Soy el empleado con id 2, toca descanzo por 1 hs.\n",
            "Soy el empleado con id 3, toca descanzo por 3 hs.\n",
            "Soy el empleado con id 1, toca descanzo por 3 hs.\n",
            "Soy el empleado con id 4, toca descanzo por 4 hs.\n",
            "Soy el empleado con id 5, toca descanzo por 1 hs.\n",
            "Jefe recibe trabajo completado 1 del empleado 2.\n",
            "Jefe envia nuevo trabajo y 0 hs de descanso al empleado 2.\n",
            "Soy el empleado con id 2, toca descanzo por 0 hs.\n",
            "Jefe recibe trabajo completado 0 del empleado 2.\n",
            "Jefe envia nuevo trabajo y 1 hs de descanso al empleado 2.\n",
            "Soy el empleado con id 2, toca descanzo por 1 hs.\n",
            "Jefe recibe trabajo completado 1 del empleado 5.\n",
            "Jefe envia nuevo trabajo y 4 hs de descanso al empleado 5.\n",
            "Soy el empleado con id 5, toca descanzo por 4 hs.\n",
            "Jefe recibe trabajo completado 1 del empleado 2.\n",
            "Jefe envia nuevo trabajo y 3 hs de descanso al empleado 2.\n",
            "Soy el empleado con id 2, toca descanzo por 3 hs.\n",
            "Jefe recibe trabajo completado 3 del empleado 3.\n",
            "Jefe envia nuevo trabajo y 4 hs de descanso al empleado 3.\n",
            "Soy el empleado con id 3, toca descanzo por 4 hs.\n",
            "Jefe recibe trabajo completado 3 del empleado 1.\n",
            "Jefe envia nuevo trabajo y 4 hs de descanso al empleado 1.\n",
            "Soy el empleado con id 1, toca descanzo por 4 hs.\n",
            "Jefe recibe trabajo completado 4 del empleado 4.\n",
            "Jefe envia nuevo trabajo y 2 hs de descanso al empleado 4.\n",
            "Soy el empleado con id 4, toca descanzo por 2 hs.\n",
            "Jefe recibe trabajo completado 3 del empleado 2.\n",
            "Jefe envia nuevo trabajo y 2 hs de descanso al empleado 2.\n",
            "Soy el empleado con id 2, toca descanzo por 2 hs.\n",
            "Jefe recibe trabajo completado 4 del empleado 5.\n",
            "Jefe envia nuevo trabajo y 1 hs de descanso al empleado 5.\n",
            "Soy el empleado con id 5, toca descanzo por 1 hs.\n",
            "Jefe recibe trabajo completado 2 del empleado 4.\n",
            "Jefe envia nuevo trabajo y 4 hs de descanso al empleado 4.\n",
            "Soy el empleado con id 4, toca descanzo por 4 hs.\n",
            "Jefe recibe trabajo completado 1 del empleado 5.\n",
            "Jefe envia nuevo trabajo y 4 hs de descanso al empleado 5.\n",
            "Soy el empleado con id 5, toca descanzo por 4 hs.\n",
            "Jefe recibe trabajo completado 2 del empleado 2.\n",
            "Soy el empleado con id 2, toca descanzo por 2 hs.\n",
            "Jefe envia nuevo trabajo y 2 hs de descanso al empleado 2.\n",
            "Jefe recibe trabajo completado 4 del empleado 3.\n",
            "Soy el empleado con id 3, toca descanzo por 1 hs.\n",
            "Jefe envia nuevo trabajo y 1 hs de descanso al empleado 3.\n",
            "Jefe recibe trabajo completado 4 del empleado 1.\n",
            "Jefe recibe trabajo completado 1 del empleado 3.\n",
            "Jefe recibe trabajo completado 2 del empleado 2.\n",
            "Jefe recibe trabajo completado 4 del empleado 4.\n",
            "Jefe recibe trabajo completado 4 del empleado 5.\n",
            "Soy el empleado con id 4, toca descanzo por 0 hs.\n",
            "Marca tarjeta el empleado 4.\n",
            "Soy el empleado con id 5, toca descanzo por 0 hs.\n",
            "Marca tarjeta el empleado 5.\n",
            "Soy el empleado con id 2, toca descanzo por 0 hs.\n",
            "Marca tarjeta el empleado 2.\n",
            "Soy el empleado con id 1, toca descanzo por 0 hs.\n",
            "Marca tarjeta el empleado 1.\n",
            "Soy el empleado con id 3, toca descanzo por 0 hs.\n",
            "Marca tarjeta el empleado 3.\n"
          ]
        }
      ]
    },
    {
      "cell_type": "markdown",
      "source": [
        "## Respuestas Ejercicio 2.1.1"
      ],
      "metadata": {
        "id": "AaUKycnOCMKI"
      }
    },
    {
      "cell_type": "markdown",
      "source": [
        "a)\n",
        "  La función de la instancia maestra es coordinar y supervisar el trabajo de los demás procesos (empleados) en el sistema de trabajo implementado. Coordina la asignación y seguimiento del trabajo, envía tareas a los empleados y recibe los resultados de su trabajo. También se encarga de marcar la tarjeta y finalizar el trabajo cuando se completan todas las tareas.\n",
        "  Las instancias esclavas esperan recibir tareas del proceso maestro, realizan el trabajo correspondiente (descanso) y envían los resultados al proceso maestro. Además, una instancia esclava finaliza su trabajo y marca la tarjeta cuando recibe un mensaje de finalización con la etiqueta END_WORK_FLAG.\n",
        "\n",
        "b)\n",
        "  La función main() se ejecuta en todas las instancias, tanto en la instancia maestra como en las instancias esclavas. La función main() es el punto de entrada del programa y coordina la ejecución general.\n",
        "\n",
        "  La función initWork() se ejecuta solo en la instancia maestra. se encarga de inicializar el trabajo, enviar las tareas iniciales a los empleados y coordinar el flujo de trabajo.\n",
        "\n",
        "  La función doWork() se ejecuta solo en las instancias esclavas. Representa el trabajo realizado por cada empleado y se encarga de recibir las tareas del proceso maestro, realizar el trabajo correspondiente y enviar los resultados al proceso maestro.\n",
        "\n",
        "c)\n",
        "  Los mensajes de trabajo y de finalización se diferencian mediante el uso de etiquetas en las comunicaciones entre el proceso maestro y los procesos esclavos.\n",
        "\n",
        "  WORK_FLAG: Esta etiqueta se utiliza para enviar tareas de trabajo a los empleados (procesos esclavos).\n",
        "\n",
        "  END_WORK_FLAG: Esta etiqueta se utiliza para enviar un mensaje de finalización a los empleados.\n",
        "\n",
        "d)\n",
        "  La función BLAS axpy() realiza la operación \"a veces x más y\" donde \"a\" es un escalar y \"x\" e \"y\" son vectores. Siguiendo el patrón del código proporcionado, se puede implementar la función axpy() distribuyendo el trabajo entre el proceso maestro y los procesos esclavos de la siguiente manera:\n",
        "\n",
        "  1- El proceso maestro se encargaría de dividir los vectores \"x\" e \"y\" en segmentos más pequeños y distribuirlos entre los procesos esclavos. Cada proceso esclavo sería responsable de realizar la operación axpy() en su segmento correspondiente.\n",
        "\n",
        "  2- Una vez que los procesos esclavos han realizado la operación axpy() en sus segmentos, enviarían los resultados parciales al proceso maestro.\n",
        "\n",
        "  3- El proceso maestro recolectaría los resultados parciales de los procesos esclavos y los combinaría para obtener el resultado final.\n",
        "\n",
        "  Esta implementación aprovecharía la capacidad de paralelismo al distribuir la tarea de realizar la operación axpy() entre múltiples procesos esclavos. Sin embargo, la eficiencia de esta implementación dependerá del tamaño de los vectores y la sobrecarga de comunicación entre los procesos.\n",
        "\n",
        "e)\n",
        "  Cuando se ejecuta el código con una sola instancia, se ejecuta todo el código en esa instancia como si fuera la instancia maestra y no hay distribución de trabajo a procesos esclavos adicionales. Esto significa que el trabajo se realiza secuencialmente en la instancia maestra y no se aprovecha el paralelismo de múltiples procesos para acelerar el procesamiento.\n",
        "\n",
        "f) El error de logica esta en el orden de ejecucion de las operaciones **comm.recv()** y **stat.Get_tag()**. **stat** esta inicializado antes de recibir los datos en **comm.recv()** y por ende no se actualizara con la informacion recibida en la ultima operacion de recepcion.\n",
        "\n",
        "Para solucionar este error, debemos intercambiar el orden de las operaciones. Primero, debemos verificar la etiqueta usando **stat.Get_tag()** y luego recibimos los datos utilizando **comm.recv()**\n",
        "\n",
        "### Codigo corregido.\n",
        "\n",
        "```\n",
        "def doWork(comm):\n",
        "    while True:\n",
        "        stat = MPI.Status()  # Obtiene el estado actual del empleado.\n",
        "        comm.recv(source=0, tag=MPI.ANY_TAG, status=stat)  # Obtiene lo enviado por el Jefe.\n",
        "        waitTime = stat.Get_tag()\n",
        "\n",
        "        if waitTime == END_WORK_FLAG:\n",
        "            print(\"Marca tarjeta el empleado {}.\".format(comm.Get_rank()), flush=True)\n",
        "            return\n",
        "\n",
        "        print(\"Soy el empleado con id {}, toca descanso por {} hs.\".format(comm.Get_rank(), waitTime), flush=True)\n",
        "        time.sleep(waitTime)\n",
        "        comm.send(waitTime, dest=0)\n",
        "\n",
        "```\n",
        "\n"
      ],
      "metadata": {
        "id": "UwOvRjzFCknT"
      }
    },
    {
      "cell_type": "code",
      "source": [],
      "metadata": {
        "id": "mXzHYvQ8FV1r"
      },
      "execution_count": null,
      "outputs": []
    }
  ]
}