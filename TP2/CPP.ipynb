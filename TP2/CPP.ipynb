{
  "nbformat": 4,
  "nbformat_minor": 0,
  "metadata": {
    "colab": {
      "provenance": [],
      "authorship_tag": "ABX9TyN+khQcCmwH75ZMB4K3OcSH",
      "include_colab_link": true
    },
    "kernelspec": {
      "name": "python3",
      "display_name": "Python 3"
    },
    "language_info": {
      "name": "python"
    }
  },
  "cells": [
    {
      "cell_type": "markdown",
      "metadata": {
        "id": "view-in-github",
        "colab_type": "text"
      },
      "source": [
        "<a href=\"https://colab.research.google.com/github/facundocarballo/ProgramacionConcurrente/blob/main/TP2/CPP.ipynb\" target=\"_parent\"><img src=\"https://colab.research.google.com/assets/colab-badge.svg\" alt=\"Open In Colab\"/></a>"
      ]
    },
    {
      "cell_type": "markdown",
      "source": [
        "# C++"
      ],
      "metadata": {
        "id": "mLZvVLAfxz3E"
      }
    },
    {
      "cell_type": "markdown",
      "source": [
        "El programa realiza un producto matricial de dos formas distintas, de forma secuencial y concurrente usando hilos. Comparando el resultado obtenido y el tiempo de respuesta de cada implementacion.\n",
        "\n",
        "Para ejecutarlo hay que pasarle como parametro el orden de las matrices que vamos a multiplicar."
      ],
      "metadata": {
        "id": "yGWUCM0Ax4pY"
      }
    },
    {
      "cell_type": "code",
      "execution_count": 1,
      "metadata": {
        "colab": {
          "base_uri": "https://localhost:8080/"
        },
        "id": "O48fc-HCxxCq",
        "outputId": "d736d553-a6cb-4d48-8fc9-0a65b632d869"
      },
      "outputs": [
        {
          "output_type": "stream",
          "name": "stdout",
          "text": [
            "Writing matriz.cpp\n"
          ]
        }
      ],
      "source": [
        "%%writefile matriz.cpp\n",
        "#include <chrono>\n",
        "#include <iostream>\n",
        "#include <string>\n",
        "#include <thread>\n",
        "#include <tuple>\n",
        "#include <vector>\n",
        "\n",
        "#define CANTIDAD_NUMEROS 65\n",
        "#define LIMITE 32\n",
        "\n",
        "#define ORDEN_MAXIMO 20\n",
        "#define ORDEN_MINIMO 5\n",
        "\n",
        "#define MATRIZ_A \"A\"\n",
        "#define MATRIZ_B \"B\"\n",
        "#define MATRIZ_SECUENCIAL \"CS\"\n",
        "#define MATRIZ_HILOS \"CH\"\n",
        "\n",
        "void Ayuda() \n",
        "{\n",
        "  printf(\n",
        "      \"Enviar un parametro indicando la cantidad de filas y columnas de la \"\n",
        "      \"matriz.\\n\");\n",
        "  printf(\"------\\n\");\n",
        "  printf(\"Ejemplo:\\n\");\n",
        "  printf(\"./matrix 3\\n\");\n",
        "  printf(\"------\\n\");\n",
        "  printf(\"Esto hara que el programa trabaje con una matrix de 3x3\\n\");\n",
        "  printf(\"------\\n\");\n",
        "  printf(\"Los ordenes de matriz aceptados van desde %d hasta %d.\\n\", ORDEN_MINIMO, ORDEN_MAXIMO);\n",
        "}\n",
        "\n",
        "class Matriz \n",
        "{\n",
        " private:\n",
        "  int orden_;\n",
        "  int** matriz_;\n",
        "  std::string nombre_;\n",
        "\n",
        "  void ImprimirConEstilo(int n) \n",
        "  {\n",
        "    if (n > 99) \n",
        "    {\n",
        "      std::cout << \" \" << n << \"  \";\n",
        "    } else if (n > 9) \n",
        "    {\n",
        "      std::cout << \"  \" << n << \"  \";\n",
        "    } else if (n > 0) \n",
        "    {\n",
        "        std::cout << \"   \" << n << \"  \";\n",
        "    }\n",
        "    else if (n > -10) \n",
        "    {\n",
        "      std::cout << \"  \" << n << \"  \";\n",
        "    } else if (n > -100) \n",
        "    {\n",
        "      std::cout << \" \" << n << \"  \";\n",
        "    } else \n",
        "    {\n",
        "        std::cout << n << \"  \";\n",
        "    }\n",
        "  }\n",
        "  void MultiplicarFila(int fila, Matriz* B, Matriz* C) \n",
        "  {\n",
        "    for (int i = 0; i < this->orden_; i++) \n",
        "    {\n",
        "      for (int j = 0; j < this->orden_; j++)\n",
        "      {\n",
        "         C->matriz_[fila][i] += this->matriz_[fila][j] * B->matriz_[j][i];\n",
        "      }\n",
        "    }\n",
        "  }\n",
        "\n",
        " public:\n",
        "  Matriz(int orden, std::string nombre) \n",
        "  {\n",
        "    this->orden_ = orden;\n",
        "    this->nombre_ = nombre;\n",
        "    matriz_ = new int*[orden];\n",
        "    for (int i = 0; i < orden; i++) \n",
        "    {\n",
        "      matriz_[i] = new int[orden];\n",
        "    }\n",
        "  }\n",
        "  void Random() \n",
        "  {\n",
        "    for (int i = 0; i < this->orden_; i++) \n",
        "    {\n",
        "      for (int j = 0; j < this->orden_; j++) \n",
        "      {\n",
        "        matriz_[i][j] = rand() % CANTIDAD_NUMEROS + (-LIMITE);\n",
        "      }\n",
        "    }\n",
        "  }\n",
        "  void Imprimir() \n",
        "  {\n",
        "    std::cout << \"Matriz: \" << this->nombre_ << std::endl;\n",
        "    for (int i = 0; i < this->orden_; i++) \n",
        "    {\n",
        "      for (int j = 0; j < this->orden_; j++) \n",
        "      {\n",
        "        this->ImprimirConEstilo(this->matriz_[i][j]);\n",
        "      }\n",
        "\n",
        "      std::cout << std::endl;\n",
        "    }\n",
        "  }\n",
        "  std::tuple<Matriz*, std::chrono::_V2::system_clock::duration>\n",
        "  Multiplicar(Matriz* B) \n",
        "  {\n",
        "    Matriz* C = new Matriz(this->orden_, MATRIZ_SECUENCIAL);\n",
        "    auto comienzo = std::chrono::high_resolution_clock::now();\n",
        "    for (int i = 0; i < this->orden_; i++) \n",
        "    {\n",
        "      for (int j = 0; j < this->orden_; j++) \n",
        "      {\n",
        "        for (int k = 0; k < this->orden_; k++)\n",
        "        {\n",
        "          C->matriz_[i][j] += this->matriz_[i][k] * B->matriz_[k][j];\n",
        "        }\n",
        "        \n",
        "      }\n",
        "    }\n",
        "    auto fin = std::chrono::high_resolution_clock::now();\n",
        "    return std::make_tuple(C, fin - comienzo);\n",
        "  }\n",
        "  std::tuple<Matriz*, std::chrono::_V2::system_clock::duration>\n",
        "  MultiplicarConcurrente(Matriz* B) \n",
        "  {\n",
        "    Matriz* C = new Matriz(this->orden_, MATRIZ_HILOS);\n",
        "    std::vector<std::thread> hilos;\n",
        "    auto comienzo = std::chrono::high_resolution_clock::now();\n",
        "    for (int i = 0; i < this->orden_; i++) \n",
        "    {\n",
        "      hilos.emplace_back(&Matriz::MultiplicarFila, this, i, B, C);\n",
        "    }\n",
        "\n",
        "    for (auto& h : hilos) \n",
        "    {\n",
        "      h.join();\n",
        "    }\n",
        "\n",
        "    auto fin = std::chrono::high_resolution_clock::now();\n",
        "\n",
        "    return std::make_tuple(C, fin - comienzo);\n",
        "  }\n",
        "  bool EsIgualA(Matriz* B)\n",
        "  {\n",
        "    bool res = true;\n",
        "    int i = 0;\n",
        "    int j = 0;\n",
        "    while(res && i < this->orden_)\n",
        "    {\n",
        "      while(res && j < this->orden_)\n",
        "      {\n",
        "        if (this->matriz_[i][j] != B->matriz_[i][j])\n",
        "        {\n",
        "          res = false;\n",
        "        }\n",
        "        j++;\n",
        "      }\n",
        "      i++;\n",
        "    }\n",
        "    return res;\n",
        "  }\n",
        "};\n",
        "\n",
        "void ImprimirTiempo(std::chrono::milliseconds tiempo) \n",
        "{\n",
        "  std::cout << \"Hecho en: \" << tiempo.count() << \" ms\" << std::endl;\n",
        "}\n",
        "\n",
        "Matriz* MultiplicacionSecuencial(Matriz* A, Matriz* B) \n",
        "{\n",
        "  std::cout << \"\\nMultiplicacion Secuencial\" << std::endl;\n",
        "  Matriz* C;\n",
        "  std::chrono::_V2::system_clock::duration tiempo;\n",
        "  std::tie(C, tiempo) = A->Multiplicar(B);\n",
        "  C->Imprimir();\n",
        "  ImprimirTiempo(std::chrono::duration_cast<std::chrono::milliseconds>(tiempo));\n",
        "\n",
        "  return C;\n",
        "}\n",
        "\n",
        "Matriz* MultiplicacionConcurrente(Matriz* A, Matriz* B) \n",
        "{\n",
        "  std::cout << \"\\nMultiplicacion Concurrente\" << std::endl;\n",
        "  Matriz* D;\n",
        "  std::chrono::_V2::system_clock::duration tiempo2;\n",
        "  std::tie(D, tiempo2) = A->MultiplicarConcurrente(B);\n",
        "  D->Imprimir();\n",
        "  ImprimirTiempo(\n",
        "      std::chrono::duration_cast<std::chrono::milliseconds>(tiempo2));\n",
        "\n",
        "  return D;\n",
        "}\n",
        "\n",
        "int main(int argc, char* argv[]) \n",
        "{\n",
        "  if (argc != 2) \n",
        "  {\n",
        "    Ayuda();\n",
        "    return EXIT_FAILURE;\n",
        "  }\n",
        "\n",
        "  int n = std::stoi(argv[1]);\n",
        "\n",
        "  if (n < ORDEN_MINIMO || n > ORDEN_MAXIMO)\n",
        "  {\n",
        "    Ayuda();\n",
        "    return EXIT_FAILURE;\n",
        "  }\n",
        "\n",
        "  Matriz* A = new Matriz(n, MATRIZ_A);\n",
        "  A->Random();\n",
        "  A->Imprimir();\n",
        "\n",
        "  Matriz* B = new Matriz(n, MATRIZ_B);\n",
        "  B->Random();\n",
        "  B->Imprimir();\n",
        "\n",
        "  Matriz* C = MultiplicacionSecuencial(A, B);\n",
        "  Matriz* D = MultiplicacionConcurrente(A, B);\n",
        "\n",
        "  if (C->EsIgualA(D))\n",
        "  {\n",
        "    std::cout << \"Las matrices son iguales.\" << std::endl;\n",
        "  }\n",
        "  else\n",
        "  {\n",
        "    std::cout << \"Las matrices son diferentes.\" << std::endl;\n",
        "  }\n",
        "\n",
        "  return EXIT_SUCCESS;\n",
        "}"
      ]
    },
    {
      "cell_type": "markdown",
      "source": [
        "Compilamos el codigo C++ y generamos un binario."
      ],
      "metadata": {
        "id": "ye-wPb3qx9f7"
      }
    },
    {
      "cell_type": "code",
      "source": [
        "!g++ matriz.cpp -lpthread -o matriz.bin"
      ],
      "metadata": {
        "id": "DIocCvDUx-Bz"
      },
      "execution_count": 2,
      "outputs": []
    },
    {
      "cell_type": "markdown",
      "source": [
        "Corremos el programa en segundo plano y enviamos toda la salida del programa al archivo \"salidaC\"\n"
      ],
      "metadata": {
        "id": "Cn2BvizeyA1r"
      }
    },
    {
      "cell_type": "code",
      "source": [
        "!nohup ./matriz.bin 5 1> salidaC 2> /dev/null & "
      ],
      "metadata": {
        "id": "u7z9PZm2yBUo"
      },
      "execution_count": 3,
      "outputs": []
    },
    {
      "cell_type": "markdown",
      "source": [
        "Visualizamos lo que hay dentro del archivo \"salidaC\""
      ],
      "metadata": {
        "id": "w-nWw0cDyC4H"
      }
    },
    {
      "cell_type": "code",
      "source": [
        "!cat salidaC"
      ],
      "metadata": {
        "colab": {
          "base_uri": "https://localhost:8080/"
        },
        "id": "OkQCKcTKyHwM",
        "outputId": "f3c7aff2-259c-46c7-dfe6-9b093f90fbe9"
      },
      "execution_count": 4,
      "outputs": [
        {
          "output_type": "stream",
          "name": "stdout",
          "text": [
            "Matriz: A\n",
            " -19    29     5    -2    21  \n",
            "   8    19    10   -18    14  \n",
            " -30    10   -32   -28     6  \n",
            " -31     3     4    30   -21  \n",
            "  14   -24    10    -3    10  \n",
            "Matriz: B\n",
            " -27   -30   -29    30    -2  \n",
            " -23   -20    -5    16    12  \n",
            " -15    -9    -1    29     5  \n",
            " -18    31   -16   -18   -28  \n",
            "  25   -14     7    -2   -17  \n",
            "\n",
            "Multiplicacion Secuencial\n",
            "Matriz: CS\n",
            " 332  -411   580    33   110  \n",
            "-129  -1464    49   1130   528  \n",
            " 1714    36   1342  -1176   702  \n",
            "-357   2058   253  -1264  -365  \n",
            " 328  -263  -178   360  -352  \n",
            "Hecho en: 0 ms\n",
            "\n",
            "Multiplicacion Concurrente\n",
            "Matriz: CH\n",
            " 332  -411   580    33   110  \n",
            "-129  -1464    49   1130   528  \n",
            " 1714    36   1342  -1176   702  \n",
            "-357   2058   253  -1264  -365  \n",
            " 328  -263  -178   360  -352  \n",
            "Hecho en: 0 ms\n",
            "Las matrices son iguales.\n"
          ]
        }
      ]
    }
  ]
}